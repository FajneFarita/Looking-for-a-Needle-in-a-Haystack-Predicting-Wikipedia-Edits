{
 "cells": [
  {
   "cell_type": "code",
   "execution_count": 65,
   "metadata": {
    "collapsed": true
   },
   "outputs": [],
   "source": [
    "import pandas as pd\n",
    "\n",
    "import numpy as np\n",
    "\n",
    "import time\n",
    "\n",
    "from sklearn.linear_model import LogisticRegression\n",
    "\n",
    "from sklearn.metrics import accuracy_score, precision_recall_fscore_support, f1_score\n",
    "\n",
    "from sklearn.model_selection import KFold, train_test_split\n",
    "\n",
    "from sklearn.utils import shuffle"
   ]
  },
  {
   "cell_type": "code",
   "execution_count": 66,
   "metadata": {},
   "outputs": [
    {
     "name": "stdout",
     "output_type": "stream",
     "text": [
      "1.1862463196118673 minutes\n"
     ]
    }
   ],
   "source": [
    "t0 = time.time()\n",
    "df = pd.read_csv('aggregate-20160501.csv')\n",
    "t1 = time.time()\n",
    "print(str((t1-t0)/60) + \" minutes\")"
   ]
  },
  {
   "cell_type": "code",
   "execution_count": 67,
   "metadata": {},
   "outputs": [
    {
     "data": {
      "text/html": [
       "<div>\n",
       "<style>\n",
       "    .dataframe thead tr:only-child th {\n",
       "        text-align: right;\n",
       "    }\n",
       "\n",
       "    .dataframe thead th {\n",
       "        text-align: left;\n",
       "    }\n",
       "\n",
       "    .dataframe tbody tr th {\n",
       "        vertical-align: top;\n",
       "    }\n",
       "</style>\n",
       "<table border=\"1\" class=\"dataframe\">\n",
       "  <thead>\n",
       "    <tr style=\"text-align: right;\">\n",
       "      <th></th>\n",
       "      <th>article_name</th>\n",
       "      <th>num_edits</th>\n",
       "      <th>views_30d</th>\n",
       "      <th>views_7d</th>\n",
       "      <th>views_3d</th>\n",
       "      <th>views_1d</th>\n",
       "      <th>edits_30d</th>\n",
       "      <th>edits_7d</th>\n",
       "      <th>edits_3d</th>\n",
       "      <th>edits_1d</th>\n",
       "      <th>...</th>\n",
       "      <th>talk_minor_edits_30d</th>\n",
       "      <th>talk_minor_edits_7d</th>\n",
       "      <th>talk_minor_edits_3d</th>\n",
       "      <th>talk_minor_edits_1d</th>\n",
       "      <th>talk_avg_size_30d</th>\n",
       "      <th>talk_avg_size_7d</th>\n",
       "      <th>talk_avg_size_3d</th>\n",
       "      <th>talk_avg_size_1d</th>\n",
       "      <th>talk_avg_size</th>\n",
       "      <th>talk_latest_size</th>\n",
       "    </tr>\n",
       "  </thead>\n",
       "  <tbody>\n",
       "    <tr>\n",
       "      <th>0</th>\n",
       "      <td>!</td>\n",
       "      <td>0.0</td>\n",
       "      <td>829.0</td>\n",
       "      <td>133.0</td>\n",
       "      <td>75.0</td>\n",
       "      <td>26.0</td>\n",
       "      <td>0.0</td>\n",
       "      <td>0.0</td>\n",
       "      <td>0.0</td>\n",
       "      <td>0.0</td>\n",
       "      <td>...</td>\n",
       "      <td>0.0</td>\n",
       "      <td>0.0</td>\n",
       "      <td>0.0</td>\n",
       "      <td>0.0</td>\n",
       "      <td>14441.666667</td>\n",
       "      <td>NaN</td>\n",
       "      <td>8470.0</td>\n",
       "      <td>0.0</td>\n",
       "      <td>10359.000000</td>\n",
       "      <td>0.0</td>\n",
       "    </tr>\n",
       "    <tr>\n",
       "      <th>1</th>\n",
       "      <td>!!!</td>\n",
       "      <td>0.0</td>\n",
       "      <td>3482.0</td>\n",
       "      <td>641.0</td>\n",
       "      <td>267.0</td>\n",
       "      <td>124.0</td>\n",
       "      <td>0.0</td>\n",
       "      <td>0.0</td>\n",
       "      <td>0.0</td>\n",
       "      <td>0.0</td>\n",
       "      <td>...</td>\n",
       "      <td>0.0</td>\n",
       "      <td>0.0</td>\n",
       "      <td>0.0</td>\n",
       "      <td>0.0</td>\n",
       "      <td>26219.071429</td>\n",
       "      <td>28604.0</td>\n",
       "      <td>56698.0</td>\n",
       "      <td>14324.0</td>\n",
       "      <td>27452.529412</td>\n",
       "      <td>14324.0</td>\n",
       "    </tr>\n",
       "    <tr>\n",
       "      <th>2</th>\n",
       "      <td>!!!Fuck_You!!!_and_Then_Some</td>\n",
       "      <td>0.0</td>\n",
       "      <td>391.0</td>\n",
       "      <td>53.0</td>\n",
       "      <td>41.0</td>\n",
       "      <td>16.0</td>\n",
       "      <td>0.0</td>\n",
       "      <td>0.0</td>\n",
       "      <td>0.0</td>\n",
       "      <td>0.0</td>\n",
       "      <td>...</td>\n",
       "      <td>0.0</td>\n",
       "      <td>0.0</td>\n",
       "      <td>0.0</td>\n",
       "      <td>0.0</td>\n",
       "      <td>NaN</td>\n",
       "      <td>NaN</td>\n",
       "      <td>NaN</td>\n",
       "      <td>NaN</td>\n",
       "      <td>NaN</td>\n",
       "      <td>NaN</td>\n",
       "    </tr>\n",
       "    <tr>\n",
       "      <th>3</th>\n",
       "      <td>!!!_(Chk_Chk_Chk)</td>\n",
       "      <td>0.0</td>\n",
       "      <td>86.0</td>\n",
       "      <td>22.0</td>\n",
       "      <td>8.0</td>\n",
       "      <td>5.0</td>\n",
       "      <td>0.0</td>\n",
       "      <td>0.0</td>\n",
       "      <td>0.0</td>\n",
       "      <td>0.0</td>\n",
       "      <td>...</td>\n",
       "      <td>0.0</td>\n",
       "      <td>0.0</td>\n",
       "      <td>0.0</td>\n",
       "      <td>0.0</td>\n",
       "      <td>NaN</td>\n",
       "      <td>NaN</td>\n",
       "      <td>NaN</td>\n",
       "      <td>NaN</td>\n",
       "      <td>NaN</td>\n",
       "      <td>NaN</td>\n",
       "    </tr>\n",
       "    <tr>\n",
       "      <th>4</th>\n",
       "      <td>!!!_(album)</td>\n",
       "      <td>0.0</td>\n",
       "      <td>628.0</td>\n",
       "      <td>91.0</td>\n",
       "      <td>47.0</td>\n",
       "      <td>16.0</td>\n",
       "      <td>0.0</td>\n",
       "      <td>0.0</td>\n",
       "      <td>0.0</td>\n",
       "      <td>0.0</td>\n",
       "      <td>...</td>\n",
       "      <td>0.0</td>\n",
       "      <td>0.0</td>\n",
       "      <td>0.0</td>\n",
       "      <td>0.0</td>\n",
       "      <td>13793.250000</td>\n",
       "      <td>8771.0</td>\n",
       "      <td>8788.0</td>\n",
       "      <td>8787.0</td>\n",
       "      <td>12790.450000</td>\n",
       "      <td>8787.0</td>\n",
       "    </tr>\n",
       "  </tbody>\n",
       "</table>\n",
       "<p>5 rows × 38 columns</p>\n",
       "</div>"
      ],
      "text/plain": [
       "                   article_name  num_edits  views_30d  views_7d  views_3d  \\\n",
       "0                             !        0.0      829.0     133.0      75.0   \n",
       "1                           !!!        0.0     3482.0     641.0     267.0   \n",
       "2  !!!Fuck_You!!!_and_Then_Some        0.0      391.0      53.0      41.0   \n",
       "3             !!!_(Chk_Chk_Chk)        0.0       86.0      22.0       8.0   \n",
       "4                   !!!_(album)        0.0      628.0      91.0      47.0   \n",
       "\n",
       "   views_1d  edits_30d  edits_7d  edits_3d  edits_1d        ...         \\\n",
       "0      26.0        0.0       0.0       0.0       0.0        ...          \n",
       "1     124.0        0.0       0.0       0.0       0.0        ...          \n",
       "2      16.0        0.0       0.0       0.0       0.0        ...          \n",
       "3       5.0        0.0       0.0       0.0       0.0        ...          \n",
       "4      16.0        0.0       0.0       0.0       0.0        ...          \n",
       "\n",
       "   talk_minor_edits_30d  talk_minor_edits_7d  talk_minor_edits_3d  \\\n",
       "0                   0.0                  0.0                  0.0   \n",
       "1                   0.0                  0.0                  0.0   \n",
       "2                   0.0                  0.0                  0.0   \n",
       "3                   0.0                  0.0                  0.0   \n",
       "4                   0.0                  0.0                  0.0   \n",
       "\n",
       "   talk_minor_edits_1d  talk_avg_size_30d  talk_avg_size_7d  talk_avg_size_3d  \\\n",
       "0                  0.0       14441.666667               NaN            8470.0   \n",
       "1                  0.0       26219.071429           28604.0           56698.0   \n",
       "2                  0.0                NaN               NaN               NaN   \n",
       "3                  0.0                NaN               NaN               NaN   \n",
       "4                  0.0       13793.250000            8771.0            8788.0   \n",
       "\n",
       "   talk_avg_size_1d  talk_avg_size  talk_latest_size  \n",
       "0               0.0   10359.000000               0.0  \n",
       "1           14324.0   27452.529412           14324.0  \n",
       "2               NaN            NaN               NaN  \n",
       "3               NaN            NaN               NaN  \n",
       "4            8787.0   12790.450000            8787.0  \n",
       "\n",
       "[5 rows x 38 columns]"
      ]
     },
     "execution_count": 67,
     "metadata": {},
     "output_type": "execute_result"
    }
   ],
   "source": [
    "df.head()"
   ]
  },
  {
   "cell_type": "code",
   "execution_count": 68,
   "metadata": {},
   "outputs": [
    {
     "data": {
      "text/plain": [
       "(12220462, 38)"
      ]
     },
     "execution_count": 68,
     "metadata": {},
     "output_type": "execute_result"
    }
   ],
   "source": [
    "df.shape"
   ]
  },
  {
   "cell_type": "code",
   "execution_count": 69,
   "metadata": {
    "scrolled": true
   },
   "outputs": [
    {
     "name": "stdout",
     "output_type": "stream",
     "text": [
      "article_name\n",
      "num_edits\n",
      "views_30d\n",
      "views_7d\n",
      "views_3d\n",
      "views_1d\n",
      "edits_30d\n",
      "edits_7d\n",
      "edits_3d\n",
      "edits_1d\n",
      "minor_edits_30d\n",
      "minor_edits_7d\n",
      "minor_edits_3d\n",
      "minor_edits_1d\n",
      "avg_size_30d\n",
      "avg_size_7d\n",
      "avg_size_3d\n",
      "avg_size_1d\n",
      "avg_size\n",
      "latest_size\n",
      "talk_views_30d\n",
      "talk_views_7d\n",
      "talk_views_3d\n",
      "talk_views_1d\n",
      "talk_edits_30d\n",
      "talk_edits_7d\n",
      "talk_edits_3d\n",
      "talk_edits_1d\n",
      "talk_minor_edits_30d\n",
      "talk_minor_edits_7d\n",
      "talk_minor_edits_3d\n",
      "talk_minor_edits_1d\n",
      "talk_avg_size_30d\n",
      "talk_avg_size_7d\n",
      "talk_avg_size_3d\n",
      "talk_avg_size_1d\n",
      "talk_avg_size\n",
      "talk_latest_size\n"
     ]
    }
   ],
   "source": [
    "for c in df.columns:\n",
    "    print(c)"
   ]
  },
  {
   "cell_type": "code",
   "execution_count": 70,
   "metadata": {
    "scrolled": true
   },
   "outputs": [
    {
     "data": {
      "text/plain": [
       "{0.0,\n",
       " 1.0,\n",
       " 2.0,\n",
       " 3.0,\n",
       " 4.0,\n",
       " 5.0,\n",
       " 6.0,\n",
       " 7.0,\n",
       " 8.0,\n",
       " 9.0,\n",
       " 10.0,\n",
       " 11.0,\n",
       " 12.0,\n",
       " 13.0,\n",
       " 14.0,\n",
       " 15.0,\n",
       " 16.0,\n",
       " 17.0,\n",
       " 18.0,\n",
       " 19.0,\n",
       " 20.0,\n",
       " 21.0,\n",
       " 22.0,\n",
       " 23.0,\n",
       " 25.0,\n",
       " 26.0,\n",
       " 27.0,\n",
       " 29.0,\n",
       " 30.0,\n",
       " 33.0,\n",
       " 34.0,\n",
       " 35.0,\n",
       " 36.0,\n",
       " 37.0,\n",
       " 38.0,\n",
       " 40.0,\n",
       " 42.0,\n",
       " 47.0,\n",
       " 49.0,\n",
       " 52.0,\n",
       " 57.0,\n",
       " 60.0,\n",
       " 62.0,\n",
       " 67.0,\n",
       " 77.0}"
      ]
     },
     "execution_count": 70,
     "metadata": {},
     "output_type": "execute_result"
    }
   ],
   "source": [
    "set(df.num_edits)"
   ]
  },
  {
   "cell_type": "code",
   "execution_count": 71,
   "metadata": {},
   "outputs": [
    {
     "data": {
      "text/plain": [
       "99.94655684866906"
      ]
     },
     "execution_count": 71,
     "metadata": {},
     "output_type": "execute_result"
    }
   ],
   "source": [
    "len(df[\"num_edits\"][df[\"num_edits\"] == 0])/len(df[\"num_edits\"])*100"
   ]
  },
  {
   "cell_type": "code",
   "execution_count": 72,
   "metadata": {},
   "outputs": [
    {
     "data": {
      "text/plain": [
       "{0, 1}"
      ]
     },
     "execution_count": 72,
     "metadata": {},
     "output_type": "execute_result"
    }
   ],
   "source": [
    "df['num_edits_binary'] = df['num_edits'].apply(lambda x: int(x > 0))\n",
    "set(df['num_edits_binary'])"
   ]
  },
  {
   "cell_type": "code",
   "execution_count": 73,
   "metadata": {
    "scrolled": true
   },
   "outputs": [
    {
     "name": "stdout",
     "output_type": "stream",
     "text": [
      "Missing Observations \n",
      "\n",
      "article_name                   0\n",
      "num_edits                      0\n",
      "views_30d                      0\n",
      "views_7d                       0\n",
      "views_3d                       0\n",
      "views_1d                       0\n",
      "edits_30d                      0\n",
      "edits_7d                       0\n",
      "edits_3d                       0\n",
      "edits_1d                       0\n",
      "minor_edits_30d                0\n",
      "minor_edits_7d                 0\n",
      "minor_edits_3d                 0\n",
      "minor_edits_1d                 0\n",
      "avg_size_30d             1564532\n",
      "avg_size_7d              9642891\n",
      "avg_size_3d             10546205\n",
      "avg_size_1d             10952764\n",
      "avg_size                   20394\n",
      "latest_size                20394\n",
      "talk_views_30d                 0\n",
      "talk_views_7d                  0\n",
      "talk_views_3d                  0\n",
      "talk_views_1d                  0\n",
      "talk_edits_30d                 0\n",
      "talk_edits_7d                  0\n",
      "talk_edits_3d                  0\n",
      "talk_edits_1d                  0\n",
      "talk_minor_edits_30d           0\n",
      "talk_minor_edits_7d            0\n",
      "talk_minor_edits_3d            0\n",
      "talk_minor_edits_1d            0\n",
      "talk_avg_size_30d       11539669\n",
      "talk_avg_size_7d        11838461\n",
      "talk_avg_size_3d        11893496\n",
      "talk_avg_size_1d        12038018\n",
      "talk_avg_size           11518413\n",
      "talk_latest_size        11518413\n",
      "num_edits_binary               0\n",
      "dtype: int64\n"
     ]
    }
   ],
   "source": [
    "print(\"Missing Observations \\n\")\n",
    "\n",
    "print(df.isnull().sum())"
   ]
  },
  {
   "cell_type": "code",
   "execution_count": 74,
   "metadata": {
    "collapsed": true
   },
   "outputs": [],
   "source": [
    "feature_names = [\"views_30d\", \n",
    "                 \"edits_30d\", \n",
    "                 \"minor_edits_30d\", \n",
    "                 \"talk_views_30d\",\n",
    "                 \"talk_edits_30d\",\n",
    "                 \"talk_minor_edits_30d\"]\n",
    "\n",
    "label_name = \"num_edits_binary\"\n",
    "\n",
    "X = df[feature_names].as_matrix()\n",
    "\n",
    "Y = df[label_name].as_matrix()"
   ]
  },
  {
   "cell_type": "code",
   "execution_count": 75,
   "metadata": {
    "collapsed": true
   },
   "outputs": [],
   "source": [
    "zero = len(df[\"num_edits\"][df[\"num_edits\"] == 0])/len(df[\"num_edits\"])\n",
    "one = len(df[\"num_edits\"][df[\"num_edits\"] != 0])/len(df[\"num_edits\"])"
   ]
  },
  {
   "cell_type": "code",
   "execution_count": 76,
   "metadata": {},
   "outputs": [],
   "source": [
    "# balanced sample\n",
    "\n",
    "np.random.seed(seed=13579)\n",
    "\n",
    "set1_idx = np.random.choice(range(len(df)), int(len(df) * .5), replace=False)\n",
    "set2_idx = list(set(range(len(df))) - set(list(set1_idx)))"
   ]
  },
  {
   "cell_type": "code",
   "execution_count": 77,
   "metadata": {},
   "outputs": [],
   "source": [
    "set1_X = df.loc[set1_idx, feature_names]\n",
    "set1_Y = df.loc[set1_idx, label_name]"
   ]
  },
  {
   "cell_type": "code",
   "execution_count": 78,
   "metadata": {
    "collapsed": true
   },
   "outputs": [],
   "source": [
    "set2 = df.loc[set2_idx, list(df.columns.tolist())]"
   ]
  },
  {
   "cell_type": "code",
   "execution_count": 79,
   "metadata": {},
   "outputs": [
    {
     "data": {
      "text/plain": [
       "(3270, 39)"
      ]
     },
     "execution_count": 79,
     "metadata": {},
     "output_type": "execute_result"
    }
   ],
   "source": [
    "edited = set2[set2.num_edits > 0.0].copy(deep=True)\n",
    "edited.shape"
   ]
  },
  {
   "cell_type": "code",
   "execution_count": 80,
   "metadata": {
    "collapsed": true
   },
   "outputs": [],
   "source": [
    "not_edited = set2[set2.num_edits == 0.0].copy(deep=True)"
   ]
  },
  {
   "cell_type": "code",
   "execution_count": 81,
   "metadata": {
    "collapsed": true
   },
   "outputs": [],
   "source": [
    "not_edited_selected = not_edited[0:3270]"
   ]
  },
  {
   "cell_type": "code",
   "execution_count": 82,
   "metadata": {
    "collapsed": true
   },
   "outputs": [],
   "source": [
    "balanced_set = pd.concat([edited, not_edited_selected])"
   ]
  },
  {
   "cell_type": "code",
   "execution_count": 83,
   "metadata": {
    "collapsed": true
   },
   "outputs": [],
   "source": [
    "balanced_set = shuffle(balanced_set)"
   ]
  },
  {
   "cell_type": "code",
   "execution_count": 84,
   "metadata": {},
   "outputs": [
    {
     "data": {
      "text/plain": [
       "(6540, 39)"
      ]
     },
     "execution_count": 84,
     "metadata": {},
     "output_type": "execute_result"
    }
   ],
   "source": [
    "balanced_set.shape"
   ]
  },
  {
   "cell_type": "code",
   "execution_count": 85,
   "metadata": {},
   "outputs": [
    {
     "data": {
      "text/plain": [
       "LogisticRegression(C=1.0, class_weight=None, dual=False, fit_intercept=True,\n",
       "          intercept_scaling=1, max_iter=100, multi_class='ovr', n_jobs=1,\n",
       "          penalty='l2', random_state=None, solver='liblinear', tol=0.0001,\n",
       "          verbose=0, warm_start=False)"
      ]
     },
     "execution_count": 85,
     "metadata": {},
     "output_type": "execute_result"
    }
   ],
   "source": [
    "# logistic regression\n",
    "\n",
    "X_train, X_test, y_train, y_test = train_test_split(balanced_set[feature_names], balanced_set[label_name],\n",
    "                                                    train_size=0.66, test_size=0.33)\n",
    "model = LogisticRegression()\n",
    "model.fit(X_train, y_train)"
   ]
  },
  {
   "cell_type": "code",
   "execution_count": 86,
   "metadata": {},
   "outputs": [
    {
     "name": "stdout",
     "output_type": "stream",
     "text": [
      "2159\n",
      "6110231\n"
     ]
    }
   ],
   "source": [
    "print(len(X_test))\n",
    "print(len(set1_X))"
   ]
  },
  {
   "cell_type": "code",
   "execution_count": 87,
   "metadata": {},
   "outputs": [],
   "source": [
    "zeros = np.array([0]*2159)\n",
    "zeros_i = np.array([0]*6110231)\n",
    "\n",
    "ones = np.array([1]*2159)\n",
    "ones_i = np.array([1]*6110231)"
   ]
  },
  {
   "cell_type": "code",
   "execution_count": 88,
   "metadata": {},
   "outputs": [
    {
     "data": {
      "text/plain": [
       "(2159,)"
      ]
     },
     "execution_count": 88,
     "metadata": {},
     "output_type": "execute_result"
    }
   ],
   "source": [
    "y_pred = model.predict(X_test)\n",
    "y_pred.shape"
   ]
  },
  {
   "cell_type": "code",
   "execution_count": 89,
   "metadata": {},
   "outputs": [
    {
     "data": {
      "text/plain": [
       "(6110231,)"
      ]
     },
     "execution_count": 89,
     "metadata": {},
     "output_type": "execute_result"
    }
   ],
   "source": [
    "y_pred_i = model.predict(set1_X)\n",
    "y_pred_i.shape"
   ]
  },
  {
   "cell_type": "code",
   "execution_count": 90,
   "metadata": {},
   "outputs": [
    {
     "name": "stdout",
     "output_type": "stream",
     "text": [
      "0.662806855025\n",
      "0.991236665193\n"
     ]
    }
   ],
   "source": [
    "print(model.score(X_test, y_test))\n",
    "print(model.score(set1_X, set1_Y))"
   ]
  },
  {
   "cell_type": "code",
   "execution_count": 91,
   "metadata": {},
   "outputs": [
    {
     "name": "stdout",
     "output_type": "stream",
     "text": [
      "0.991304256746\n"
     ]
    }
   ],
   "source": [
    "print(model.score(set1_X, zeros_i))"
   ]
  },
  {
   "cell_type": "code",
   "execution_count": 92,
   "metadata": {},
   "outputs": [
    {
     "name": "stdout",
     "output_type": "stream",
     "text": [
      "(array([ 0.61695138,  0.77237049]), array([ 0.86623616,  0.45767442]), array([ 0.72064467,  0.57476636]), array([1084, 1075]))\n",
      "(array([ 0.99969672,  0.02680067]), array([ 0.99153279,  0.43667587]), array([ 0.99559802,  0.05050183]), array([6106970,    3261]))\n"
     ]
    }
   ],
   "source": [
    "print(precision_recall_fscore_support(y_test, y_pred))\n",
    "print(precision_recall_fscore_support(set1_Y, y_pred_i))"
   ]
  },
  {
   "cell_type": "code",
   "execution_count": 93,
   "metadata": {},
   "outputs": [
    {
     "name": "stdout",
     "output_type": "stream",
     "text": [
      "(array([ 0.9994663,  0.       ]), array([ 1.,  0.]), array([ 0.99973308,  0.        ]), array([6106970,    3261]))\n"
     ]
    },
    {
     "name": "stderr",
     "output_type": "stream",
     "text": [
      "/Users/ugur/anaconda3/lib/python3.6/site-packages/sklearn/metrics/classification.py:1135: UndefinedMetricWarning: Precision and F-score are ill-defined and being set to 0.0 in labels with no predicted samples.\n",
      "  'precision', 'predicted', average, warn_for)\n"
     ]
    }
   ],
   "source": [
    "print(precision_recall_fscore_support(set1_Y, zeros_i))"
   ]
  },
  {
   "cell_type": "code",
   "execution_count": 94,
   "metadata": {},
   "outputs": [
    {
     "name": "stdout",
     "output_type": "stream",
     "text": [
      "0.57476635514\n",
      "0.0505018264354\n"
     ]
    }
   ],
   "source": [
    "print(f1_score(y_test, y_pred))\n",
    "print(f1_score(set1_Y, y_pred_i))"
   ]
  },
  {
   "cell_type": "code",
   "execution_count": 95,
   "metadata": {},
   "outputs": [
    {
     "name": "stdout",
     "output_type": "stream",
     "text": [
      "0.0\n"
     ]
    },
    {
     "name": "stderr",
     "output_type": "stream",
     "text": [
      "/Users/ugur/anaconda3/lib/python3.6/site-packages/sklearn/metrics/classification.py:1135: UndefinedMetricWarning: F-score is ill-defined and being set to 0.0 due to no predicted samples.\n",
      "  'precision', 'predicted', average, warn_for)\n"
     ]
    }
   ],
   "source": [
    "print(f1_score(set1_Y, zeros_i))"
   ]
  },
  {
   "cell_type": "code",
   "execution_count": 96,
   "metadata": {},
   "outputs": [
    {
     "name": "stdout",
     "output_type": "stream",
     "text": [
      "1.7166828513145447 minutes\n",
      "0.99945640353\n",
      "0.999463113588\n",
      "[(0.75, 0.016949152542372881, 0.033149171270718238, None), (0.37608695652173912, 0.027226943657538558, 0.050777810390372755, None)]\n",
      "[(0.43965517241379309, 0.016052880075542966, 0.030974795019738842, None), (0.375, 0.016949152542372881, 0.032432432432432434, None)]\n",
      "0.909478054103\n",
      "0.999489217347\n"
     ]
    }
   ],
   "source": [
    "np.random.seed(seed=13579)\n",
    "\n",
    "kf = KFold(n_splits=2, random_state=13579)\n",
    "\n",
    "train_acc = []\n",
    "test_acc = []\n",
    "\n",
    "train_precision_recall_fscore_support = []\n",
    "test_precision_recall_fscore_support = []\n",
    "\n",
    "train_acc_weighted = []\n",
    "test_acc_weighted = []\n",
    "\n",
    "t0 = time.time()\n",
    "for train_idx, test_idx in kf.split(X):\n",
    "    train_x = X[train_idx]\n",
    "    train_y = Y[train_idx]\n",
    "    test_x = X[test_idx]\n",
    "    test_y = Y[test_idx]\n",
    "\n",
    "    model = LogisticRegression()\n",
    "    model.fit(train_x, train_y)\n",
    "    \n",
    "    train_acc += [accuracy_score(train_y, model.predict(train_x))]\n",
    "    test_acc += [accuracy_score(test_y, model.predict(test_x))]\n",
    "    \n",
    "    train_precision_recall_fscore_support += [precision_recall_fscore_support(train_y, \n",
    "                                                                              model.predict(train_x),\n",
    "                                                                              average='binary')]\n",
    "    test_precision_recall_fscore_support += [precision_recall_fscore_support(test_y, \n",
    "                                                                             model.predict(test_x),\n",
    "                                                                             average='binary')]\n",
    "    \n",
    "    model = LogisticRegression(class_weight = {0: one, 1: zero})\n",
    "    model.fit(train_x, train_y)\n",
    "    \n",
    "    train_acc_weighted = [accuracy_score(train_y, model.predict(train_x))]\n",
    "    test_acc_weighted = [accuracy_score(test_y, model.predict(test_x))]\n",
    "    \n",
    "t1 = time.time()\n",
    "print(str((t1-t0)/60) + \" minutes\")\n",
    "\n",
    "print(np.mean(train_acc))\n",
    "print(np.mean(test_acc))\n",
    "\n",
    "print(train_precision_recall_fscore_support)\n",
    "print(test_precision_recall_fscore_support)\n",
    "\n",
    "print(np.mean(train_acc_weighted))\n",
    "print(np.mean(test_acc_weighted))"
   ]
  },
  {
   "cell_type": "code",
   "execution_count": 21,
   "metadata": {
    "collapsed": true
   },
   "outputs": [],
   "source": [
    "# decision tree"
   ]
  },
  {
   "cell_type": "code",
   "execution_count": 22,
   "metadata": {
    "collapsed": true
   },
   "outputs": [],
   "source": [
    "# linear regression"
   ]
  },
  {
   "cell_type": "code",
   "execution_count": 23,
   "metadata": {
    "collapsed": true
   },
   "outputs": [],
   "source": [
    "# k-nearest neighbors"
   ]
  }
 ],
 "metadata": {
  "kernelspec": {
   "display_name": "Python 3",
   "language": "python",
   "name": "python3"
  },
  "language_info": {
   "codemirror_mode": {
    "name": "ipython",
    "version": 3
   },
   "file_extension": ".py",
   "mimetype": "text/x-python",
   "name": "python",
   "nbconvert_exporter": "python",
   "pygments_lexer": "ipython3",
   "version": "3.6.2"
  }
 },
 "nbformat": 4,
 "nbformat_minor": 2
}
