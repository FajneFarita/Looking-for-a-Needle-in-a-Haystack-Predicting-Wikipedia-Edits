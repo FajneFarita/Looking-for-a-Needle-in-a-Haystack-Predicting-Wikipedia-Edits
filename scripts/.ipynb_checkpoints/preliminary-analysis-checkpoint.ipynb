{
 "cells": [
  {
   "cell_type": "code",
   "execution_count": 1,
   "metadata": {
    "collapsed": true
   },
   "outputs": [],
   "source": [
    "import pandas as pd\n",
    "\n",
    "import numpy as np\n",
    "\n",
    "import time\n",
    "\n",
    "from sklearn.linear_model import LogisticRegression\n",
    "\n",
    "from sklearn.metrics import accuracy_score, precision_recall_fscore_support\n",
    "\n",
    "from sklearn.model_selection import KFold"
   ]
  },
  {
   "cell_type": "code",
   "execution_count": 2,
   "metadata": {},
   "outputs": [
    {
     "name": "stdout",
     "output_type": "stream",
     "text": [
      "6.064945610364278 minutes\n"
     ]
    }
   ],
   "source": [
    "t0 = time.time()\n",
    "df = pd.read_csv('aggregate-20160501.csv')\n",
    "t1 = time.time()\n",
    "print(str((t1-t0)/60) + \" minutes\")"
   ]
  },
  {
   "cell_type": "code",
   "execution_count": 3,
   "metadata": {},
   "outputs": [
    {
     "data": {
      "text/html": [
       "<div>\n",
       "<style>\n",
       "    .dataframe thead tr:only-child th {\n",
       "        text-align: right;\n",
       "    }\n",
       "\n",
       "    .dataframe thead th {\n",
       "        text-align: left;\n",
       "    }\n",
       "\n",
       "    .dataframe tbody tr th {\n",
       "        vertical-align: top;\n",
       "    }\n",
       "</style>\n",
       "<table border=\"1\" class=\"dataframe\">\n",
       "  <thead>\n",
       "    <tr style=\"text-align: right;\">\n",
       "      <th></th>\n",
       "      <th>article_name</th>\n",
       "      <th>num_edits</th>\n",
       "      <th>views_30d</th>\n",
       "      <th>views_7d</th>\n",
       "      <th>views_3d</th>\n",
       "      <th>views_1d</th>\n",
       "      <th>edits_30d</th>\n",
       "      <th>edits_7d</th>\n",
       "      <th>edits_3d</th>\n",
       "      <th>edits_1d</th>\n",
       "      <th>...</th>\n",
       "      <th>talk_minor_edits_30d</th>\n",
       "      <th>talk_minor_edits_7d</th>\n",
       "      <th>talk_minor_edits_3d</th>\n",
       "      <th>talk_minor_edits_1d</th>\n",
       "      <th>talk_avg_size_30d</th>\n",
       "      <th>talk_avg_size_7d</th>\n",
       "      <th>talk_avg_size_3d</th>\n",
       "      <th>talk_avg_size_1d</th>\n",
       "      <th>talk_avg_size</th>\n",
       "      <th>talk_latest_size</th>\n",
       "    </tr>\n",
       "  </thead>\n",
       "  <tbody>\n",
       "    <tr>\n",
       "      <th>0</th>\n",
       "      <td>!</td>\n",
       "      <td>0.0</td>\n",
       "      <td>829.0</td>\n",
       "      <td>133.0</td>\n",
       "      <td>75.0</td>\n",
       "      <td>26.0</td>\n",
       "      <td>0.0</td>\n",
       "      <td>0.0</td>\n",
       "      <td>0.0</td>\n",
       "      <td>0.0</td>\n",
       "      <td>...</td>\n",
       "      <td>0.0</td>\n",
       "      <td>0.0</td>\n",
       "      <td>0.0</td>\n",
       "      <td>0.0</td>\n",
       "      <td>14441.666667</td>\n",
       "      <td>NaN</td>\n",
       "      <td>8470.0</td>\n",
       "      <td>0.0</td>\n",
       "      <td>10359.000000</td>\n",
       "      <td>0.0</td>\n",
       "    </tr>\n",
       "    <tr>\n",
       "      <th>1</th>\n",
       "      <td>!!!</td>\n",
       "      <td>0.0</td>\n",
       "      <td>3482.0</td>\n",
       "      <td>641.0</td>\n",
       "      <td>267.0</td>\n",
       "      <td>124.0</td>\n",
       "      <td>0.0</td>\n",
       "      <td>0.0</td>\n",
       "      <td>0.0</td>\n",
       "      <td>0.0</td>\n",
       "      <td>...</td>\n",
       "      <td>0.0</td>\n",
       "      <td>0.0</td>\n",
       "      <td>0.0</td>\n",
       "      <td>0.0</td>\n",
       "      <td>26219.071429</td>\n",
       "      <td>28604.0</td>\n",
       "      <td>56698.0</td>\n",
       "      <td>14324.0</td>\n",
       "      <td>27452.529412</td>\n",
       "      <td>14324.0</td>\n",
       "    </tr>\n",
       "    <tr>\n",
       "      <th>2</th>\n",
       "      <td>!!!Fuck_You!!!_and_Then_Some</td>\n",
       "      <td>0.0</td>\n",
       "      <td>391.0</td>\n",
       "      <td>53.0</td>\n",
       "      <td>41.0</td>\n",
       "      <td>16.0</td>\n",
       "      <td>0.0</td>\n",
       "      <td>0.0</td>\n",
       "      <td>0.0</td>\n",
       "      <td>0.0</td>\n",
       "      <td>...</td>\n",
       "      <td>0.0</td>\n",
       "      <td>0.0</td>\n",
       "      <td>0.0</td>\n",
       "      <td>0.0</td>\n",
       "      <td>NaN</td>\n",
       "      <td>NaN</td>\n",
       "      <td>NaN</td>\n",
       "      <td>NaN</td>\n",
       "      <td>NaN</td>\n",
       "      <td>NaN</td>\n",
       "    </tr>\n",
       "    <tr>\n",
       "      <th>3</th>\n",
       "      <td>!!!_(Chk_Chk_Chk)</td>\n",
       "      <td>0.0</td>\n",
       "      <td>86.0</td>\n",
       "      <td>22.0</td>\n",
       "      <td>8.0</td>\n",
       "      <td>5.0</td>\n",
       "      <td>0.0</td>\n",
       "      <td>0.0</td>\n",
       "      <td>0.0</td>\n",
       "      <td>0.0</td>\n",
       "      <td>...</td>\n",
       "      <td>0.0</td>\n",
       "      <td>0.0</td>\n",
       "      <td>0.0</td>\n",
       "      <td>0.0</td>\n",
       "      <td>NaN</td>\n",
       "      <td>NaN</td>\n",
       "      <td>NaN</td>\n",
       "      <td>NaN</td>\n",
       "      <td>NaN</td>\n",
       "      <td>NaN</td>\n",
       "    </tr>\n",
       "    <tr>\n",
       "      <th>4</th>\n",
       "      <td>!!!_(album)</td>\n",
       "      <td>0.0</td>\n",
       "      <td>628.0</td>\n",
       "      <td>91.0</td>\n",
       "      <td>47.0</td>\n",
       "      <td>16.0</td>\n",
       "      <td>0.0</td>\n",
       "      <td>0.0</td>\n",
       "      <td>0.0</td>\n",
       "      <td>0.0</td>\n",
       "      <td>...</td>\n",
       "      <td>0.0</td>\n",
       "      <td>0.0</td>\n",
       "      <td>0.0</td>\n",
       "      <td>0.0</td>\n",
       "      <td>13793.250000</td>\n",
       "      <td>8771.0</td>\n",
       "      <td>8788.0</td>\n",
       "      <td>8787.0</td>\n",
       "      <td>12790.450000</td>\n",
       "      <td>8787.0</td>\n",
       "    </tr>\n",
       "  </tbody>\n",
       "</table>\n",
       "<p>5 rows × 38 columns</p>\n",
       "</div>"
      ],
      "text/plain": [
       "                   article_name  num_edits  views_30d  views_7d  views_3d  \\\n",
       "0                             !        0.0      829.0     133.0      75.0   \n",
       "1                           !!!        0.0     3482.0     641.0     267.0   \n",
       "2  !!!Fuck_You!!!_and_Then_Some        0.0      391.0      53.0      41.0   \n",
       "3             !!!_(Chk_Chk_Chk)        0.0       86.0      22.0       8.0   \n",
       "4                   !!!_(album)        0.0      628.0      91.0      47.0   \n",
       "\n",
       "   views_1d  edits_30d  edits_7d  edits_3d  edits_1d        ...         \\\n",
       "0      26.0        0.0       0.0       0.0       0.0        ...          \n",
       "1     124.0        0.0       0.0       0.0       0.0        ...          \n",
       "2      16.0        0.0       0.0       0.0       0.0        ...          \n",
       "3       5.0        0.0       0.0       0.0       0.0        ...          \n",
       "4      16.0        0.0       0.0       0.0       0.0        ...          \n",
       "\n",
       "   talk_minor_edits_30d  talk_minor_edits_7d  talk_minor_edits_3d  \\\n",
       "0                   0.0                  0.0                  0.0   \n",
       "1                   0.0                  0.0                  0.0   \n",
       "2                   0.0                  0.0                  0.0   \n",
       "3                   0.0                  0.0                  0.0   \n",
       "4                   0.0                  0.0                  0.0   \n",
       "\n",
       "   talk_minor_edits_1d  talk_avg_size_30d  talk_avg_size_7d  talk_avg_size_3d  \\\n",
       "0                  0.0       14441.666667               NaN            8470.0   \n",
       "1                  0.0       26219.071429           28604.0           56698.0   \n",
       "2                  0.0                NaN               NaN               NaN   \n",
       "3                  0.0                NaN               NaN               NaN   \n",
       "4                  0.0       13793.250000            8771.0            8788.0   \n",
       "\n",
       "   talk_avg_size_1d  talk_avg_size  talk_latest_size  \n",
       "0               0.0   10359.000000               0.0  \n",
       "1           14324.0   27452.529412           14324.0  \n",
       "2               NaN            NaN               NaN  \n",
       "3               NaN            NaN               NaN  \n",
       "4            8787.0   12790.450000            8787.0  \n",
       "\n",
       "[5 rows x 38 columns]"
      ]
     },
     "execution_count": 3,
     "metadata": {},
     "output_type": "execute_result"
    }
   ],
   "source": [
    "df.head()"
   ]
  },
  {
   "cell_type": "code",
   "execution_count": 4,
   "metadata": {},
   "outputs": [
    {
     "data": {
      "text/plain": [
       "(56439944, 38)"
      ]
     },
     "execution_count": 4,
     "metadata": {},
     "output_type": "execute_result"
    }
   ],
   "source": [
    "df.shape"
   ]
  },
  {
   "cell_type": "code",
   "execution_count": 5,
   "metadata": {
    "scrolled": true
   },
   "outputs": [
    {
     "name": "stdout",
     "output_type": "stream",
     "text": [
      "article_name\n",
      "num_edits\n",
      "views_30d\n",
      "views_7d\n",
      "views_3d\n",
      "views_1d\n",
      "edits_30d\n",
      "edits_7d\n",
      "edits_3d\n",
      "edits_1d\n",
      "minor_edits_30d\n",
      "minor_edits_7d\n",
      "minor_edits_3d\n",
      "minor_edits_1d\n",
      "avg_size_30d\n",
      "avg_size_7d\n",
      "avg_size_3d\n",
      "avg_size_1d\n",
      "avg_size\n",
      "latest_size\n",
      "talk_views_30d\n",
      "talk_views_7d\n",
      "talk_views_3d\n",
      "talk_views_1d\n",
      "talk_edits_30d\n",
      "talk_edits_7d\n",
      "talk_edits_3d\n",
      "talk_edits_1d\n",
      "talk_minor_edits_30d\n",
      "talk_minor_edits_7d\n",
      "talk_minor_edits_3d\n",
      "talk_minor_edits_1d\n",
      "talk_avg_size_30d\n",
      "talk_avg_size_7d\n",
      "talk_avg_size_3d\n",
      "talk_avg_size_1d\n",
      "talk_avg_size\n",
      "talk_latest_size\n"
     ]
    }
   ],
   "source": [
    "for c in df.columns:\n",
    "    print(c)"
   ]
  },
  {
   "cell_type": "code",
   "execution_count": 6,
   "metadata": {
    "scrolled": true
   },
   "outputs": [
    {
     "data": {
      "text/plain": [
       "{0.0,\n",
       " 1.0,\n",
       " 2.0,\n",
       " 3.0,\n",
       " 4.0,\n",
       " 5.0,\n",
       " 6.0,\n",
       " 7.0,\n",
       " 8.0,\n",
       " 9.0,\n",
       " 10.0,\n",
       " 11.0,\n",
       " 12.0,\n",
       " 13.0,\n",
       " 14.0,\n",
       " 15.0,\n",
       " 16.0,\n",
       " 17.0,\n",
       " 18.0,\n",
       " 19.0,\n",
       " 20.0,\n",
       " 21.0,\n",
       " 22.0,\n",
       " 23.0,\n",
       " 24.0,\n",
       " 25.0,\n",
       " 26.0,\n",
       " 27.0,\n",
       " 28.0,\n",
       " 29.0,\n",
       " 30.0,\n",
       " 31.0,\n",
       " 32.0,\n",
       " 33.0,\n",
       " 34.0,\n",
       " 35.0,\n",
       " 36.0,\n",
       " 37.0,\n",
       " 38.0,\n",
       " 39.0,\n",
       " 40.0,\n",
       " 41.0,\n",
       " 42.0,\n",
       " 44.0,\n",
       " 46.0,\n",
       " 47.0,\n",
       " 48.0,\n",
       " 49.0,\n",
       " 51.0,\n",
       " 52.0,\n",
       " 54.0,\n",
       " 57.0,\n",
       " 58.0,\n",
       " 59.0,\n",
       " 60.0,\n",
       " 62.0,\n",
       " 67.0,\n",
       " 71.0,\n",
       " 77.0,\n",
       " 95.0,\n",
       " 112.0,\n",
       " 162.0}"
      ]
     },
     "execution_count": 6,
     "metadata": {},
     "output_type": "execute_result"
    }
   ],
   "source": [
    "set(df.num_edits)"
   ]
  },
  {
   "cell_type": "code",
   "execution_count": 7,
   "metadata": {},
   "outputs": [
    {
     "data": {
      "text/plain": [
       "99.90885001586818"
      ]
     },
     "execution_count": 7,
     "metadata": {},
     "output_type": "execute_result"
    }
   ],
   "source": [
    "len(df[\"num_edits\"][df[\"num_edits\"] == 0])/len(df[\"num_edits\"])*100"
   ]
  },
  {
   "cell_type": "code",
   "execution_count": 8,
   "metadata": {},
   "outputs": [
    {
     "data": {
      "text/plain": [
       "{0, 1}"
      ]
     },
     "execution_count": 8,
     "metadata": {},
     "output_type": "execute_result"
    }
   ],
   "source": [
    "df['num_edits_binary'] = df['num_edits'].apply(lambda x: int(x > 0))\n",
    "set(df['num_edits_binary'])"
   ]
  },
  {
   "cell_type": "code",
   "execution_count": 9,
   "metadata": {
    "scrolled": true
   },
   "outputs": [
    {
     "name": "stdout",
     "output_type": "stream",
     "text": [
      "Missing Observations \n",
      "\n",
      "article_name                   0\n",
      "num_edits                      0\n",
      "views_30d                      0\n",
      "views_7d                       0\n",
      "views_3d                       0\n",
      "views_1d                       0\n",
      "edits_30d                      0\n",
      "edits_7d                       0\n",
      "edits_3d                       0\n",
      "edits_1d                       0\n",
      "minor_edits_30d                0\n",
      "minor_edits_7d                 0\n",
      "minor_edits_3d                 0\n",
      "minor_edits_1d                 0\n",
      "avg_size_30d                   0\n",
      "avg_size_7d             42356045\n",
      "avg_size_3d             45330092\n",
      "avg_size_1d             47553455\n",
      "avg_size                       0\n",
      "latest_size                    0\n",
      "talk_views_30d                 0\n",
      "talk_views_7d                  0\n",
      "talk_views_3d                  0\n",
      "talk_views_1d                  0\n",
      "talk_edits_30d                 0\n",
      "talk_edits_7d                  0\n",
      "talk_edits_3d                  0\n",
      "talk_edits_1d                  0\n",
      "talk_minor_edits_30d           0\n",
      "talk_minor_edits_7d            0\n",
      "talk_minor_edits_3d            0\n",
      "talk_minor_edits_1d            0\n",
      "talk_avg_size_30d       50741995\n",
      "talk_avg_size_7d        53211321\n",
      "talk_avg_size_3d        53764710\n",
      "talk_avg_size_1d        54955015\n",
      "talk_avg_size           50602477\n",
      "talk_latest_size        50602477\n",
      "num_edits_binary               0\n",
      "dtype: int64\n"
     ]
    }
   ],
   "source": [
    "print(\"Missing Observations \\n\")\n",
    "\n",
    "print(df.isnull().sum())"
   ]
  },
  {
   "cell_type": "code",
   "execution_count": 10,
   "metadata": {
    "collapsed": true
   },
   "outputs": [],
   "source": [
    "X = df[[\"views_30d\", \n",
    "        \"edits_30d\", \n",
    "        \"minor_edits_30d\", \n",
    "        \"avg_size_30d\", \n",
    "        \"talk_views_30d\",\n",
    "        \"talk_minor_edits_30d\"]].as_matrix()\n",
    "\n",
    "Y = df['num_edits_binary'].as_matrix()"
   ]
  },
  {
   "cell_type": "code",
   "execution_count": 18,
   "metadata": {
    "collapsed": true
   },
   "outputs": [],
   "source": [
    "zero = len(df[\"num_edits\"][df[\"num_edits\"] == 0])/len(df[\"num_edits\"])\n",
    "one = len(df[\"num_edits\"][df[\"num_edits\"] != 0])/len(df[\"num_edits\"])"
   ]
  },
  {
   "cell_type": "code",
   "execution_count": 20,
   "metadata": {},
   "outputs": [
    {
     "name": "stdout",
     "output_type": "stream",
     "text": [
      "18.27434188524882 minutes\n",
      "0.999069010416\n",
      "0.999068337134\n",
      "[(0.1476608187134503, 0.0038238746072009997, 0.0074546997822637203, None), (0.29908972691807545, 0.018376478108021732, 0.034625517500940908, None)]\n",
      "[(0.13345521023765997, 0.0029162671780121443, 0.0057078071855819227, None), (0.28387096774193549, 0.018324309998864197, 0.034426346112810299, None)]\n",
      "0.900660744809\n",
      "0.891871118795\n"
     ]
    }
   ],
   "source": [
    "# logistic regression\n",
    "\n",
    "np.random.seed(seed=27)\n",
    "\n",
    "kf = KFold(n_splits=2, random_state=27)\n",
    "\n",
    "train_acc = []\n",
    "test_acc = []\n",
    "\n",
    "train_precision_recall_fscore_support = []\n",
    "test_precision_recall_fscore_support = []\n",
    "\n",
    "train_acc_weighted = []\n",
    "test_acc_weighted = []\n",
    "\n",
    "t0 = time.time()\n",
    "for train_idx, test_idx in kf.split(X):\n",
    "    train_x = X[train_idx]\n",
    "    train_y = Y[train_idx]\n",
    "    test_x = X[test_idx]\n",
    "    test_y = Y[test_idx]\n",
    "\n",
    "    model = LogisticRegression()\n",
    "    model.fit(train_x, train_y)\n",
    "    \n",
    "    train_acc += [accuracy_score(train_y, model.predict(train_x))]\n",
    "    test_acc += [accuracy_score(test_y, model.predict(test_x))]\n",
    "    \n",
    "    train_precision_recall_fscore_support += [precision_recall_fscore_support(train_y, \n",
    "                                                                              model.predict(train_x),\n",
    "                                                                              average='binary')]\n",
    "    test_precision_recall_fscore_support += [precision_recall_fscore_support(test_y, \n",
    "                                                                             model.predict(test_x),\n",
    "                                                                             average='binary')]\n",
    "    \n",
    "    model = LogisticRegression(class_weight = {0: one, 1: zero})\n",
    "    model.fit(train_x, train_y)\n",
    "    \n",
    "    train_acc_weighted = [accuracy_score(train_y, model.predict(train_x))]\n",
    "    test_acc_weighted = [accuracy_score(test_y, model.predict(test_x))]\n",
    "    \n",
    "t1 = time.time()\n",
    "print(str((t1-t0)/60) + \" minutes\")\n",
    "\n",
    "print(np.mean(train_acc))\n",
    "print(np.mean(test_acc))\n",
    "\n",
    "print(train_precision_recall_fscore_support)\n",
    "print(test_precision_recall_fscore_support)\n",
    "\n",
    "print(np.mean(train_acc_weighted))\n",
    "print(np.mean(test_acc_weighted))"
   ]
  },
  {
   "cell_type": "code",
   "execution_count": 21,
   "metadata": {
    "collapsed": true
   },
   "outputs": [],
   "source": [
    "# decision tree"
   ]
  },
  {
   "cell_type": "code",
   "execution_count": 22,
   "metadata": {
    "collapsed": true
   },
   "outputs": [],
   "source": [
    "# linear regression"
   ]
  },
  {
   "cell_type": "code",
   "execution_count": 23,
   "metadata": {
    "collapsed": true
   },
   "outputs": [],
   "source": [
    "# k-nearest neighbors"
   ]
  }
 ],
 "metadata": {
  "kernelspec": {
   "display_name": "Python 3",
   "language": "python",
   "name": "python3"
  },
  "language_info": {
   "codemirror_mode": {
    "name": "ipython",
    "version": 3
   },
   "file_extension": ".py",
   "mimetype": "text/x-python",
   "name": "python",
   "nbconvert_exporter": "python",
   "pygments_lexer": "ipython3",
   "version": "3.5.2"
  }
 },
 "nbformat": 4,
 "nbformat_minor": 2
}
