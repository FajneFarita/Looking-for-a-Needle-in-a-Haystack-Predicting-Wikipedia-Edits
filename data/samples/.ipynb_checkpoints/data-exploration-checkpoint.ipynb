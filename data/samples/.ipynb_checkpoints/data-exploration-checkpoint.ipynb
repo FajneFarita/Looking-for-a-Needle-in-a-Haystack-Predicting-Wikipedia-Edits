{
 "cells": [
  {
   "cell_type": "code",
   "execution_count": 62,
   "metadata": {
    "collapsed": true
   },
   "outputs": [],
   "source": [
    "import pandas as pd\n",
    "import statsmodels.formula.api as smf\n",
    "import matplotlib.pyplot as plt"
   ]
  },
  {
   "cell_type": "code",
   "execution_count": 63,
   "metadata": {
    "collapsed": true
   },
   "outputs": [],
   "source": [
    "sample = pd.read_csv('combined-20160401-sample.csv')"
   ]
  },
  {
   "cell_type": "code",
   "execution_count": 64,
   "metadata": {},
   "outputs": [
    {
     "name": "stdout",
     "output_type": "stream",
     "text": [
      "(33348, 12)\n"
     ]
    }
   ],
   "source": [
    "print(sample.shape)"
   ]
  },
  {
   "cell_type": "code",
   "execution_count": 65,
   "metadata": {},
   "outputs": [
    {
     "data": {
      "text/plain": [
       "{0.0, 1.0, 2.0, 3.0, 4.0, 5.0, 6.0, 10.0, 13.0, 18.0, 40.0}"
      ]
     },
     "execution_count": 65,
     "metadata": {},
     "output_type": "execute_result"
    }
   ],
   "source": [
    "sample['edits'] = sample['edits'].replace(-1, float('nan'))\n",
    "set(sample['edits'])"
   ]
  },
  {
   "cell_type": "code",
   "execution_count": 66,
   "metadata": {},
   "outputs": [
    {
     "data": {
      "text/html": [
       "<div>\n",
       "<style>\n",
       "    .dataframe thead tr:only-child th {\n",
       "        text-align: right;\n",
       "    }\n",
       "\n",
       "    .dataframe thead th {\n",
       "        text-align: left;\n",
       "    }\n",
       "\n",
       "    .dataframe tbody tr th {\n",
       "        vertical-align: top;\n",
       "    }\n",
       "</style>\n",
       "<table border=\"1\" class=\"dataframe\">\n",
       "  <thead>\n",
       "    <tr style=\"text-align: right;\">\n",
       "      <th></th>\n",
       "      <th>Unnamed: 0</th>\n",
       "      <th>Article Name</th>\n",
       "      <th>view_count</th>\n",
       "      <th>size</th>\n",
       "      <th>min_size</th>\n",
       "      <th>max_size</th>\n",
       "      <th>Article Namespace</th>\n",
       "      <th>page_namespace</th>\n",
       "      <th>page_title</th>\n",
       "      <th>date</th>\n",
       "      <th>edits</th>\n",
       "      <th>minor_edits</th>\n",
       "    </tr>\n",
       "  </thead>\n",
       "  <tbody>\n",
       "    <tr>\n",
       "      <th>0</th>\n",
       "      <td>10760143</td>\n",
       "      <td>President_obama_is_planning_historic_trip_to_c...</td>\n",
       "      <td>2</td>\n",
       "      <td>54080</td>\n",
       "      <td>54080</td>\n",
       "      <td>54080</td>\n",
       "      <td>0</td>\n",
       "      <td>NaN</td>\n",
       "      <td>NaN</td>\n",
       "      <td>20160401.0</td>\n",
       "      <td>0.0</td>\n",
       "      <td>0.0</td>\n",
       "    </tr>\n",
       "    <tr>\n",
       "      <th>1</th>\n",
       "      <td>673852</td>\n",
       "      <td>Heinrich_Auspitz</td>\n",
       "      <td>3</td>\n",
       "      <td>11166</td>\n",
       "      <td>11163</td>\n",
       "      <td>11168</td>\n",
       "      <td>0</td>\n",
       "      <td>NaN</td>\n",
       "      <td>NaN</td>\n",
       "      <td>20160401.0</td>\n",
       "      <td>0.0</td>\n",
       "      <td>0.0</td>\n",
       "    </tr>\n",
       "    <tr>\n",
       "      <th>2</th>\n",
       "      <td>7107533</td>\n",
       "      <td>Snovs%27ke</td>\n",
       "      <td>1</td>\n",
       "      <td>6509</td>\n",
       "      <td>6509</td>\n",
       "      <td>6509</td>\n",
       "      <td>0</td>\n",
       "      <td>NaN</td>\n",
       "      <td>NaN</td>\n",
       "      <td>20160401.0</td>\n",
       "      <td>0.0</td>\n",
       "      <td>0.0</td>\n",
       "    </tr>\n",
       "    <tr>\n",
       "      <th>3</th>\n",
       "      <td>7368092</td>\n",
       "      <td>Jorgen_Clement_Klerens</td>\n",
       "      <td>1</td>\n",
       "      <td>6519</td>\n",
       "      <td>6519</td>\n",
       "      <td>6519</td>\n",
       "      <td>0</td>\n",
       "      <td>NaN</td>\n",
       "      <td>NaN</td>\n",
       "      <td>20160401.0</td>\n",
       "      <td>0.0</td>\n",
       "      <td>0.0</td>\n",
       "    </tr>\n",
       "    <tr>\n",
       "      <th>4</th>\n",
       "      <td>9704950</td>\n",
       "      <td>Painted_Rock_Reservoir</td>\n",
       "      <td>1</td>\n",
       "      <td>13298</td>\n",
       "      <td>13298</td>\n",
       "      <td>13298</td>\n",
       "      <td>0</td>\n",
       "      <td>NaN</td>\n",
       "      <td>NaN</td>\n",
       "      <td>20160401.0</td>\n",
       "      <td>0.0</td>\n",
       "      <td>0.0</td>\n",
       "    </tr>\n",
       "  </tbody>\n",
       "</table>\n",
       "</div>"
      ],
      "text/plain": [
       "   Unnamed: 0                                       Article Name  view_count  \\\n",
       "0    10760143  President_obama_is_planning_historic_trip_to_c...           2   \n",
       "1      673852                                   Heinrich_Auspitz           3   \n",
       "2     7107533                                         Snovs%27ke           1   \n",
       "3     7368092                             Jorgen_Clement_Klerens           1   \n",
       "4     9704950                             Painted_Rock_Reservoir           1   \n",
       "\n",
       "    size  min_size  max_size  Article Namespace  page_namespace page_title  \\\n",
       "0  54080     54080     54080                  0             NaN        NaN   \n",
       "1  11166     11163     11168                  0             NaN        NaN   \n",
       "2   6509      6509      6509                  0             NaN        NaN   \n",
       "3   6519      6519      6519                  0             NaN        NaN   \n",
       "4  13298     13298     13298                  0             NaN        NaN   \n",
       "\n",
       "         date  edits  minor_edits  \n",
       "0  20160401.0    0.0          0.0  \n",
       "1  20160401.0    0.0          0.0  \n",
       "2  20160401.0    0.0          0.0  \n",
       "3  20160401.0    0.0          0.0  \n",
       "4  20160401.0    0.0          0.0  "
      ]
     },
     "execution_count": 66,
     "metadata": {},
     "output_type": "execute_result"
    }
   ],
   "source": [
    "sample.head()"
   ]
  },
  {
   "cell_type": "code",
   "execution_count": 67,
   "metadata": {},
   "outputs": [
    {
     "name": "stdout",
     "output_type": "stream",
     "text": [
      "                            OLS Regression Results                            \n",
      "==============================================================================\n",
      "Dep. Variable:                  edits   R-squared:                       0.005\n",
      "Model:                            OLS   Adj. R-squared:                  0.005\n",
      "Method:                 Least Squares   F-statistic:                     85.95\n",
      "Date:                Mon, 06 Nov 2017   Prob (F-statistic):           5.86e-38\n",
      "Time:                        15:49:18   Log-Likelihood:                -4894.4\n",
      "No. Observations:               33348   AIC:                             9795.\n",
      "Df Residuals:                   33345   BIC:                             9820.\n",
      "Df Model:                           2                                         \n",
      "Covariance Type:            nonrobust                                         \n",
      "==============================================================================\n",
      "                 coef    std err          t      P>|t|      [0.025      0.975]\n",
      "------------------------------------------------------------------------------\n",
      "Intercept      0.0069      0.002      4.429      0.000       0.004       0.010\n",
      "view_count     0.0001   2.26e-05      6.508      0.000       0.000       0.000\n",
      "size        1.083e-08   8.59e-09      1.261      0.207      -6e-09    2.77e-08\n",
      "==============================================================================\n",
      "Omnibus:                   132746.211   Durbin-Watson:                   2.002\n",
      "Prob(Omnibus):                  0.000   Jarque-Bera (JB):     238060404300.173\n",
      "Skew:                         100.619   Prob(JB):                         0.00\n",
      "Kurtosis:                   13090.689   Cond. No.                     3.14e+05\n",
      "==============================================================================\n",
      "\n",
      "Warnings:\n",
      "[1] Standard Errors assume that the covariance matrix of the errors is correctly specified.\n",
      "[2] The condition number is large, 3.14e+05. This might indicate that there are\n",
      "strong multicollinearity or other numerical problems.\n"
     ]
    }
   ],
   "source": [
    "result = smf.ols(formula = \"edits ~ view_count + size\", data = sample).fit()\n",
    "print(result.summary())"
   ]
  },
  {
   "cell_type": "code",
   "execution_count": 68,
   "metadata": {},
   "outputs": [
    {
     "data": {
      "image/png": "[encoded data removed]",
      "text/plain": [
       "<matplotlib.figure.Figure at 0x11ad16828>"
      ]
     },
     "metadata": {},
     "output_type": "display_data"
    }
   ],
   "source": [
    "plt.scatter(sample['size'], sample['edits'])\n",
    "plt.xlim(0, 15000000)\n",
    "plt.xlabel('size')\n",
    "plt.ylabel('edits')\n",
    "plt.show()"
   ]
  },
  {
   "cell_type": "code",
   "execution_count": 69,
   "metadata": {},
   "outputs": [
    {
     "data": {
      "image/png": "[encoded data removed]",
      "text/plain": [
       "<matplotlib.figure.Figure at 0x11ad16e10>"
      ]
     },
     "metadata": {},
     "output_type": "display_data"
    }
   ],
   "source": [
    "plt.scatter(sample['view_count'], sample['edits'])\n",
    "plt.xlim(0,10000)\n",
    "plt.xlabel('view_count')\n",
    "plt.ylabel('edits')\n",
    "plt.show()"
   ]
  },
  {
   "cell_type": "code",
   "execution_count": 70,
   "metadata": {},
   "outputs": [
    {
     "data": {
      "text/plain": [
       "{0, 1}"
      ]
     },
     "execution_count": 70,
     "metadata": {},
     "output_type": "execute_result"
    }
   ],
   "source": [
    "sample['edits_binary'] = sample['edits'].apply(lambda x: x > 0)\n",
    "sample['edits_binary'] = sample['edits_binary'].apply(lambda x: int(x))\n",
    "set(sample['edits_binary'])"
   ]
  },
  {
   "cell_type": "code",
   "execution_count": 71,
   "metadata": {},
   "outputs": [
    {
     "data": {
      "text/html": [
       "<div>\n",
       "<style>\n",
       "    .dataframe thead tr:only-child th {\n",
       "        text-align: right;\n",
       "    }\n",
       "\n",
       "    .dataframe thead th {\n",
       "        text-align: left;\n",
       "    }\n",
       "\n",
       "    .dataframe tbody tr th {\n",
       "        vertical-align: top;\n",
       "    }\n",
       "</style>\n",
       "<table border=\"1\" class=\"dataframe\">\n",
       "  <thead>\n",
       "    <tr style=\"text-align: right;\">\n",
       "      <th></th>\n",
       "      <th>Unnamed: 0</th>\n",
       "      <th>Article Name</th>\n",
       "      <th>view_count</th>\n",
       "      <th>size</th>\n",
       "      <th>min_size</th>\n",
       "      <th>max_size</th>\n",
       "      <th>Article Namespace</th>\n",
       "      <th>page_namespace</th>\n",
       "      <th>page_title</th>\n",
       "      <th>date</th>\n",
       "      <th>edits</th>\n",
       "      <th>minor_edits</th>\n",
       "      <th>edits_binary</th>\n",
       "    </tr>\n",
       "  </thead>\n",
       "  <tbody>\n",
       "    <tr>\n",
       "      <th>0</th>\n",
       "      <td>10760143</td>\n",
       "      <td>President_obama_is_planning_historic_trip_to_c...</td>\n",
       "      <td>2</td>\n",
       "      <td>54080</td>\n",
       "      <td>54080</td>\n",
       "      <td>54080</td>\n",
       "      <td>0</td>\n",
       "      <td>NaN</td>\n",
       "      <td>NaN</td>\n",
       "      <td>20160401.0</td>\n",
       "      <td>0.0</td>\n",
       "      <td>0.0</td>\n",
       "      <td>0</td>\n",
       "    </tr>\n",
       "    <tr>\n",
       "      <th>1</th>\n",
       "      <td>673852</td>\n",
       "      <td>Heinrich_Auspitz</td>\n",
       "      <td>3</td>\n",
       "      <td>11166</td>\n",
       "      <td>11163</td>\n",
       "      <td>11168</td>\n",
       "      <td>0</td>\n",
       "      <td>NaN</td>\n",
       "      <td>NaN</td>\n",
       "      <td>20160401.0</td>\n",
       "      <td>0.0</td>\n",
       "      <td>0.0</td>\n",
       "      <td>0</td>\n",
       "    </tr>\n",
       "    <tr>\n",
       "      <th>2</th>\n",
       "      <td>7107533</td>\n",
       "      <td>Snovs%27ke</td>\n",
       "      <td>1</td>\n",
       "      <td>6509</td>\n",
       "      <td>6509</td>\n",
       "      <td>6509</td>\n",
       "      <td>0</td>\n",
       "      <td>NaN</td>\n",
       "      <td>NaN</td>\n",
       "      <td>20160401.0</td>\n",
       "      <td>0.0</td>\n",
       "      <td>0.0</td>\n",
       "      <td>0</td>\n",
       "    </tr>\n",
       "    <tr>\n",
       "      <th>3</th>\n",
       "      <td>7368092</td>\n",
       "      <td>Jorgen_Clement_Klerens</td>\n",
       "      <td>1</td>\n",
       "      <td>6519</td>\n",
       "      <td>6519</td>\n",
       "      <td>6519</td>\n",
       "      <td>0</td>\n",
       "      <td>NaN</td>\n",
       "      <td>NaN</td>\n",
       "      <td>20160401.0</td>\n",
       "      <td>0.0</td>\n",
       "      <td>0.0</td>\n",
       "      <td>0</td>\n",
       "    </tr>\n",
       "    <tr>\n",
       "      <th>4</th>\n",
       "      <td>9704950</td>\n",
       "      <td>Painted_Rock_Reservoir</td>\n",
       "      <td>1</td>\n",
       "      <td>13298</td>\n",
       "      <td>13298</td>\n",
       "      <td>13298</td>\n",
       "      <td>0</td>\n",
       "      <td>NaN</td>\n",
       "      <td>NaN</td>\n",
       "      <td>20160401.0</td>\n",
       "      <td>0.0</td>\n",
       "      <td>0.0</td>\n",
       "      <td>0</td>\n",
       "    </tr>\n",
       "  </tbody>\n",
       "</table>\n",
       "</div>"
      ],
      "text/plain": [
       "   Unnamed: 0                                       Article Name  view_count  \\\n",
       "0    10760143  President_obama_is_planning_historic_trip_to_c...           2   \n",
       "1      673852                                   Heinrich_Auspitz           3   \n",
       "2     7107533                                         Snovs%27ke           1   \n",
       "3     7368092                             Jorgen_Clement_Klerens           1   \n",
       "4     9704950                             Painted_Rock_Reservoir           1   \n",
       "\n",
       "    size  min_size  max_size  Article Namespace  page_namespace page_title  \\\n",
       "0  54080     54080     54080                  0             NaN        NaN   \n",
       "1  11166     11163     11168                  0             NaN        NaN   \n",
       "2   6509      6509      6509                  0             NaN        NaN   \n",
       "3   6519      6519      6519                  0             NaN        NaN   \n",
       "4  13298     13298     13298                  0             NaN        NaN   \n",
       "\n",
       "         date  edits  minor_edits  edits_binary  \n",
       "0  20160401.0    0.0          0.0             0  \n",
       "1  20160401.0    0.0          0.0             0  \n",
       "2  20160401.0    0.0          0.0             0  \n",
       "3  20160401.0    0.0          0.0             0  \n",
       "4  20160401.0    0.0          0.0             0  "
      ]
     },
     "execution_count": 71,
     "metadata": {},
     "output_type": "execute_result"
    }
   ],
   "source": [
    "sample.head()"
   ]
  },
  {
   "cell_type": "code",
   "execution_count": 72,
   "metadata": {},
   "outputs": [
    {
     "name": "stdout",
     "output_type": "stream",
     "text": [
      "Optimization terminated successfully.\n",
      "         Current function value: 0.030582\n",
      "         Iterations 9\n",
      "                           Logit Regression Results                           \n",
      "==============================================================================\n",
      "Dep. Variable:           edits_binary   No. Observations:                33348\n",
      "Model:                          Logit   Df Residuals:                    33345\n",
      "Method:                           MLE   Df Model:                            2\n",
      "Date:                Mon, 06 Nov 2017   Pseudo R-squ.:                 0.01990\n",
      "Time:                        15:50:06   Log-Likelihood:                -1019.8\n",
      "converged:                       True   LL-Null:                       -1040.5\n",
      "                                        LLR p-value:                 1.011e-09\n",
      "==============================================================================\n",
      "                 coef    std err          z      P>|z|      [0.025      0.975]\n",
      "------------------------------------------------------------------------------\n",
      "Intercept     -5.3470      0.079    -67.302      0.000      -5.503      -5.191\n",
      "view_count     0.0009      0.000      3.052      0.002       0.000       0.001\n",
      "size        5.248e-08   8.54e-08      0.615      0.539   -1.15e-07     2.2e-07\n",
      "==============================================================================\n"
     ]
    }
   ],
   "source": [
    "result2 = smf.logit(formula = \"edits_binary ~ view_count + size\", data = sample).fit()\n",
    "print(result2.summary())"
   ]
  }
 ],
 "metadata": {
  "kernelspec": {
   "display_name": "Python 3",
   "language": "python",
   "name": "python3"
  },
  "language_info": {
   "codemirror_mode": {
    "name": "ipython",
    "version": 3
   },
   "file_extension": ".py",
   "mimetype": "text/x-python",
   "name": "python",
   "nbconvert_exporter": "python",
   "pygments_lexer": "ipython3",
   "version": "3.6.2"
  }
 },
 "nbformat": 4,
 "nbformat_minor": 2
}
