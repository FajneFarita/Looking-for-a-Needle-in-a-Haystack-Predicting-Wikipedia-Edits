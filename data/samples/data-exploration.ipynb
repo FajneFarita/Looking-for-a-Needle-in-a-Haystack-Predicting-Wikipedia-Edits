{
 "cells": [
  {
   "cell_type": "code",
   "execution_count": 34,
   "metadata": {
    "collapsed": true
   },
   "outputs": [],
   "source": [
    "import pandas as pd\n",
    "import statsmodels.formula.api as smf\n",
    "import matplotlib.pyplot as plt"
   ]
  },
  {
   "cell_type": "code",
   "execution_count": 35,
   "metadata": {
    "collapsed": true
   },
   "outputs": [],
   "source": [
    "sample = pd.read_csv('combined-20160401-sample.csv')"
   ]
  },
  {
   "cell_type": "code",
   "execution_count": 36,
   "metadata": {},
   "outputs": [
    {
     "name": "stdout",
     "output_type": "stream",
     "text": [
      "(63885, 14)\n"
     ]
    }
   ],
   "source": [
    "print(sample.shape)"
   ]
  },
  {
   "cell_type": "code",
   "execution_count": 37,
   "metadata": {},
   "outputs": [
    {
     "data": {
      "text/html": [
       "<div>\n",
       "<style>\n",
       "    .dataframe thead tr:only-child th {\n",
       "        text-align: right;\n",
       "    }\n",
       "\n",
       "    .dataframe thead th {\n",
       "        text-align: left;\n",
       "    }\n",
       "\n",
       "    .dataframe tbody tr th {\n",
       "        vertical-align: top;\n",
       "    }\n",
       "</style>\n",
       "<table border=\"1\" class=\"dataframe\">\n",
       "  <thead>\n",
       "    <tr style=\"text-align: right;\">\n",
       "      <th></th>\n",
       "      <th>Unnamed: 0</th>\n",
       "      <th>Article Name</th>\n",
       "      <th>view_count</th>\n",
       "      <th>size</th>\n",
       "      <th>min_size</th>\n",
       "      <th>max_size</th>\n",
       "      <th>page_id</th>\n",
       "      <th>page_namespace</th>\n",
       "      <th>page_title</th>\n",
       "      <th>page_restrictions</th>\n",
       "      <th>page_is_redirect</th>\n",
       "      <th>date</th>\n",
       "      <th>edits</th>\n",
       "      <th>minor_edits</th>\n",
       "    </tr>\n",
       "  </thead>\n",
       "  <tbody>\n",
       "    <tr>\n",
       "      <th>0</th>\n",
       "      <td>9865561</td>\n",
       "      <td>Special:Log/Ashprice95</td>\n",
       "      <td>1</td>\n",
       "      <td>5894</td>\n",
       "      <td>5894</td>\n",
       "      <td>5894</td>\n",
       "      <td>NaN</td>\n",
       "      <td>NaN</td>\n",
       "      <td>NaN</td>\n",
       "      <td>NaN</td>\n",
       "      <td>NaN</td>\n",
       "      <td>20160401.0</td>\n",
       "      <td>0.0</td>\n",
       "      <td>0.0</td>\n",
       "    </tr>\n",
       "    <tr>\n",
       "      <th>1</th>\n",
       "      <td>14022836</td>\n",
       "      <td>Special:Export/Babylas_of_Antioch</td>\n",
       "      <td>1</td>\n",
       "      <td>9076</td>\n",
       "      <td>9076</td>\n",
       "      <td>9076</td>\n",
       "      <td>NaN</td>\n",
       "      <td>NaN</td>\n",
       "      <td>NaN</td>\n",
       "      <td>NaN</td>\n",
       "      <td>NaN</td>\n",
       "      <td>20160401.0</td>\n",
       "      <td>0.0</td>\n",
       "      <td>0.0</td>\n",
       "    </tr>\n",
       "    <tr>\n",
       "      <th>2</th>\n",
       "      <td>12139365</td>\n",
       "      <td>Category:13th_century_in_Poland</td>\n",
       "      <td>1</td>\n",
       "      <td>8145</td>\n",
       "      <td>8145</td>\n",
       "      <td>8145</td>\n",
       "      <td>NaN</td>\n",
       "      <td>NaN</td>\n",
       "      <td>NaN</td>\n",
       "      <td>NaN</td>\n",
       "      <td>NaN</td>\n",
       "      <td>20160401.0</td>\n",
       "      <td>0.0</td>\n",
       "      <td>0.0</td>\n",
       "    </tr>\n",
       "    <tr>\n",
       "      <th>3</th>\n",
       "      <td>11707673</td>\n",
       "      <td>Special:MobileDiff/463677122</td>\n",
       "      <td>1</td>\n",
       "      <td>5272</td>\n",
       "      <td>5272</td>\n",
       "      <td>5272</td>\n",
       "      <td>NaN</td>\n",
       "      <td>NaN</td>\n",
       "      <td>NaN</td>\n",
       "      <td>NaN</td>\n",
       "      <td>NaN</td>\n",
       "      <td>20160401.0</td>\n",
       "      <td>0.0</td>\n",
       "      <td>0.0</td>\n",
       "    </tr>\n",
       "    <tr>\n",
       "      <th>4</th>\n",
       "      <td>15159439</td>\n",
       "      <td>Hermann_Gruson</td>\n",
       "      <td>2</td>\n",
       "      <td>23358</td>\n",
       "      <td>11252</td>\n",
       "      <td>35464</td>\n",
       "      <td>NaN</td>\n",
       "      <td>NaN</td>\n",
       "      <td>NaN</td>\n",
       "      <td>NaN</td>\n",
       "      <td>NaN</td>\n",
       "      <td>20160401.0</td>\n",
       "      <td>0.0</td>\n",
       "      <td>0.0</td>\n",
       "    </tr>\n",
       "  </tbody>\n",
       "</table>\n",
       "</div>"
      ],
      "text/plain": [
       "   Unnamed: 0                       Article Name  view_count   size  min_size  \\\n",
       "0     9865561             Special:Log/Ashprice95           1   5894      5894   \n",
       "1    14022836  Special:Export/Babylas_of_Antioch           1   9076      9076   \n",
       "2    12139365    Category:13th_century_in_Poland           1   8145      8145   \n",
       "3    11707673       Special:MobileDiff/463677122           1   5272      5272   \n",
       "4    15159439                     Hermann_Gruson           2  23358     11252   \n",
       "\n",
       "   max_size  page_id  page_namespace page_title  page_restrictions  \\\n",
       "0      5894      NaN             NaN        NaN                NaN   \n",
       "1      9076      NaN             NaN        NaN                NaN   \n",
       "2      8145      NaN             NaN        NaN                NaN   \n",
       "3      5272      NaN             NaN        NaN                NaN   \n",
       "4     35464      NaN             NaN        NaN                NaN   \n",
       "\n",
       "   page_is_redirect        date  edits  minor_edits  \n",
       "0               NaN  20160401.0    0.0          0.0  \n",
       "1               NaN  20160401.0    0.0          0.0  \n",
       "2               NaN  20160401.0    0.0          0.0  \n",
       "3               NaN  20160401.0    0.0          0.0  \n",
       "4               NaN  20160401.0    0.0          0.0  "
      ]
     },
     "execution_count": 37,
     "metadata": {},
     "output_type": "execute_result"
    }
   ],
   "source": [
    "sample.head()"
   ]
  },
  {
   "cell_type": "code",
   "execution_count": 38,
   "metadata": {},
   "outputs": [
    {
     "name": "stdout",
     "output_type": "stream",
     "text": [
      "                            OLS Regression Results                            \n",
      "==============================================================================\n",
      "Dep. Variable:                  edits   R-squared:                       0.010\n",
      "Model:                            OLS   Adj. R-squared:                  0.010\n",
      "Method:                 Least Squares   F-statistic:                     317.3\n",
      "Date:                Sun, 05 Nov 2017   Prob (F-statistic):          7.25e-138\n",
      "Time:                        19:04:23   Log-Likelihood:                 25577.\n",
      "No. Observations:               63885   AIC:                        -5.115e+04\n",
      "Df Residuals:                   63882   BIC:                        -5.112e+04\n",
      "Df Model:                           2                                         \n",
      "Covariance Type:            nonrobust                                         \n",
      "==============================================================================\n",
      "                 coef    std err          t      P>|t|      [0.025      0.975]\n",
      "------------------------------------------------------------------------------\n",
      "Intercept      0.0049      0.001      7.591      0.000       0.004       0.006\n",
      "view_count  3.072e-05   3.85e-06      7.988      0.000    2.32e-05    3.83e-05\n",
      "size        6.419e-09   2.11e-09      3.044      0.002    2.29e-09    1.06e-08\n",
      "==============================================================================\n",
      "Omnibus:                   242934.761   Durbin-Watson:                   2.002\n",
      "Prob(Omnibus):                  0.000   Jarque-Bera (JB):     356171218925.492\n",
      "Skew:                          87.189   Prob(JB):                         0.00\n",
      "Kurtosis:                   11569.081   Cond. No.                     7.10e+05\n",
      "==============================================================================\n",
      "\n",
      "Warnings:\n",
      "[1] Standard Errors assume that the covariance matrix of the errors is correctly specified.\n",
      "[2] The condition number is large, 7.1e+05. This might indicate that there are\n",
      "strong multicollinearity or other numerical problems.\n"
     ]
    }
   ],
   "source": [
    "result = smf.ols(formula = \"edits ~ view_count + size\", data = sample).fit()\n",
    "print(result.summary())"
   ]
  },
  {
   "cell_type": "code",
   "execution_count": 39,
   "metadata": {},
   "outputs": [
    {
     "data": {
      "image/png": "[encoded data removed]",
      "text/plain": [
       "<matplotlib.figure.Figure at 0x1180cb9e8>"
      ]
     },
     "metadata": {},
     "output_type": "display_data"
    }
   ],
   "source": [
    "plt.scatter(sample['size'], sample['edits'])\n",
    "plt.xlim(0, 15000000)\n",
    "plt.xlabel('size')\n",
    "plt.ylabel('edits')\n",
    "plt.show()"
   ]
  },
  {
   "cell_type": "code",
   "execution_count": 40,
   "metadata": {},
   "outputs": [
    {
     "data": {
      "image/png": "[encoded data removed]",
      "text/plain": [
       "<matplotlib.figure.Figure at 0x112f88f60>"
      ]
     },
     "metadata": {},
     "output_type": "display_data"
    }
   ],
   "source": [
    "plt.scatter(sample['view_count'], sample['edits'])\n",
    "plt.xlim(0,10000)\n",
    "plt.xlabel('view_count')\n",
    "plt.ylabel('edits')\n",
    "plt.show()"
   ]
  }
 ],
 "metadata": {
  "kernelspec": {
   "display_name": "Python 3",
   "language": "python",
   "name": "python3"
  },
  "language_info": {
   "codemirror_mode": {
    "name": "ipython",
    "version": 3
   },
   "file_extension": ".py",
   "mimetype": "text/x-python",
   "name": "python",
   "nbconvert_exporter": "python",
   "pygments_lexer": "ipython3",
   "version": "3.6.2"
  }
 },
 "nbformat": 4,
 "nbformat_minor": 2
}
