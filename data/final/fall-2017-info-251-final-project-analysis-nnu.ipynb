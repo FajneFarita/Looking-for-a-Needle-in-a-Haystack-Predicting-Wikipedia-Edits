{
 "cells": [
  {
   "cell_type": "code",
   "execution_count": 1,
   "metadata": {
    "collapsed": true
   },
   "outputs": [],
   "source": [
    "# Import necessary libraries\n",
    "\n",
    "import pandas as pd\n",
    "\n",
    "import numpy as np\n",
    "\n",
    "import time\n",
    "\n",
    "from sklearn.linear_model import LogisticRegression\n",
    "\n",
    "from sklearn.metrics import accuracy_score, precision_recall_fscore_support, f1_score\n",
    "\n",
    "from sklearn.model_selection import KFold, train_test_split\n",
    "\n",
    "from sklearn.utils import shuffle"
   ]
  },
  {
   "cell_type": "code",
   "execution_count": 2,
   "metadata": {},
   "outputs": [
    {
     "name": "stdout",
     "output_type": "stream",
     "text": [
      "6.669565852483114 minutes\n"
     ]
    }
   ],
   "source": [
    "# Read in data\n",
    "\n",
    "t0 = time.time()\n",
    "df = pd.read_csv('aggregate-20160501.csv')\n",
    "t1 = time.time()\n",
    "print(str((t1-t0)/60) + \" minutes\")"
   ]
  },
  {
   "cell_type": "code",
   "execution_count": 3,
   "metadata": {
    "collapsed": true
   },
   "outputs": [],
   "source": [
    "#df.head()\n",
    "#df.shape\n",
    "#df.columns\n",
    "#set(df.num_edits)"
   ]
  },
  {
   "cell_type": "code",
   "execution_count": 4,
   "metadata": {},
   "outputs": [
    {
     "data": {
      "text/plain": [
       "99.91720181519122"
      ]
     },
     "execution_count": 4,
     "metadata": {},
     "output_type": "execute_result"
    }
   ],
   "source": [
    "# Calculate percentage of unedited articles in original imbalanced data\n",
    "\n",
    "len(df[\"num_edits\"][df[\"num_edits\"] == 0])/len(df[\"num_edits\"])*100"
   ]
  },
  {
   "cell_type": "code",
   "execution_count": 5,
   "metadata": {
    "scrolled": true
   },
   "outputs": [
    {
     "name": "stdout",
     "output_type": "stream",
     "text": [
      "article_name                   1\n",
      "num_edits                      0\n",
      "views_30d                      0\n",
      "views_7d                       0\n",
      "views_3d                       0\n",
      "views_1d                       0\n",
      "edits_30d                      0\n",
      "edits_7d                       0\n",
      "edits_3d                       0\n",
      "edits_1d                       0\n",
      "minor_edits_30d                0\n",
      "minor_edits_7d                 0\n",
      "minor_edits_3d                 0\n",
      "minor_edits_1d                 0\n",
      "avg_size_30d             6428583\n",
      "avg_size_7d             45268487\n",
      "avg_size_3d             49800824\n",
      "avg_size_1d             53028939\n",
      "avg_size                  209968\n",
      "latest_size               209968\n",
      "talk_views_30d                 0\n",
      "talk_views_7d                  0\n",
      "talk_views_3d                  0\n",
      "talk_views_1d                  0\n",
      "talk_edits_30d                 0\n",
      "talk_edits_7d                  0\n",
      "talk_edits_3d                  0\n",
      "talk_edits_1d                  0\n",
      "talk_minor_edits_30d           0\n",
      "talk_minor_edits_7d            0\n",
      "talk_minor_edits_3d            0\n",
      "talk_minor_edits_1d            0\n",
      "talk_avg_size_30d       56969814\n",
      "talk_avg_size_7d        59531618\n",
      "talk_avg_size_3d        60113176\n",
      "talk_avg_size_1d        61337892\n",
      "talk_avg_size           56812346\n",
      "talk_latest_size        56812346\n",
      "dtype: int64\n"
     ]
    }
   ],
   "source": [
    "# Check missingness in original imbalanced data\n",
    "\n",
    "print(df.isnull().sum())"
   ]
  },
  {
   "cell_type": "code",
   "execution_count": 6,
   "metadata": {
    "collapsed": true
   },
   "outputs": [],
   "source": [
    "# Generate binary edited vs. unedited variable\n",
    "\n",
    "df['num_edits_binary'] = df['num_edits'].apply(lambda x: int(x > 0))\n",
    "#set(df['num_edits_binary'])"
   ]
  },
  {
   "cell_type": "code",
   "execution_count": 7,
   "metadata": {
    "scrolled": true
   },
   "outputs": [
    {
     "data": {
      "text/plain": [
       "['views_30d',\n",
       " 'views_7d',\n",
       " 'views_3d',\n",
       " 'views_1d',\n",
       " 'edits_30d',\n",
       " 'edits_7d',\n",
       " 'edits_3d',\n",
       " 'edits_1d',\n",
       " 'minor_edits_30d',\n",
       " 'minor_edits_7d',\n",
       " 'minor_edits_3d',\n",
       " 'minor_edits_1d',\n",
       " 'avg_size_30d',\n",
       " 'avg_size_7d',\n",
       " 'avg_size_3d',\n",
       " 'avg_size_1d',\n",
       " 'avg_size',\n",
       " 'latest_size',\n",
       " 'talk_views_30d',\n",
       " 'talk_views_7d',\n",
       " 'talk_views_3d',\n",
       " 'talk_views_1d',\n",
       " 'talk_edits_30d',\n",
       " 'talk_edits_7d',\n",
       " 'talk_edits_3d',\n",
       " 'talk_edits_1d',\n",
       " 'talk_minor_edits_30d',\n",
       " 'talk_minor_edits_7d',\n",
       " 'talk_minor_edits_3d',\n",
       " 'talk_minor_edits_1d',\n",
       " 'talk_avg_size_30d',\n",
       " 'talk_avg_size_7d',\n",
       " 'talk_avg_size_3d',\n",
       " 'talk_avg_size_1d',\n",
       " 'talk_avg_size',\n",
       " 'talk_latest_size']"
      ]
     },
     "execution_count": 7,
     "metadata": {},
     "output_type": "execute_result"
    }
   ],
   "source": [
    "# Store relevant variable names in a list\n",
    "\n",
    "feature_names = [x for x in df.columns if 'num_edits' not in x and 'article_name' not in x]\n",
    "\n",
    "label_name = \"num_edits_binary\"\n",
    "\n",
    "feature_names"
   ]
  },
  {
   "cell_type": "code",
   "execution_count": 8,
   "metadata": {},
   "outputs": [
    {
     "name": "stdout",
     "output_type": "stream",
     "text": [
      "5.176140817006429 minutes\n"
     ]
    }
   ],
   "source": [
    "## Generate balanced sample\n",
    "\n",
    "t0 = time.time()\n",
    "\n",
    "np.random.seed(seed=13579)\n",
    "\n",
    "# to be set aside as imbalanced test data\n",
    "set1_idx = np.random.choice(range(len(df)), int(len(df) * .5), replace=False)\n",
    "set1_X = df.loc[set1_idx, feature_names]\n",
    "set1_Y = df.loc[set1_idx, label_name]\n",
    "\n",
    "# to be used to generate balanced data for main analysis\n",
    "set2_idx = list(set(range(len(df))) - set(list(set1_idx)))\n",
    "set2 = df.loc[set2_idx, list(df.columns.tolist())]\n",
    "\n",
    "edited = set2[set2.num_edits > 0.0].copy(deep=True)\n",
    "#edited.shape\n",
    "\n",
    "not_edited = set2[set2.num_edits == 0.0].copy(deep=True)\n",
    "\n",
    "not_edited_selected = not_edited[0:edited.shape[0]]\n",
    "\n",
    "balanced_set = pd.concat([edited, not_edited_selected])\n",
    "\n",
    "balanced_set = shuffle(balanced_set)\n",
    "#balanced_set.shape\n",
    "\n",
    "t1 = time.time()\n",
    "print(str((t1-t0)/60) + \" minutes\")"
   ]
  },
  {
   "cell_type": "code",
   "execution_count": 9,
   "metadata": {},
   "outputs": [
    {
     "name": "stdout",
     "output_type": "stream",
     "text": [
      "(25949, 39)\n",
      "(51898, 39)\n"
     ]
    }
   ],
   "source": [
    "print(edited.shape)\n",
    "print(balanced_set.shape)"
   ]
  },
  {
   "cell_type": "code",
   "execution_count": 14,
   "metadata": {
    "collapsed": true
   },
   "outputs": [],
   "source": [
    "# Write balanced data to csv\n",
    "\n",
    "balanced_set.to_csv('balanced_set_20160501.csv', sep=',')\n",
    "#balanced_set.head()"
   ]
  },
  {
   "cell_type": "code",
   "execution_count": 19,
   "metadata": {},
   "outputs": [],
   "source": [
    "# Read in balanced data\n",
    "\n",
    "df_b = pd.read_csv('balanced_set_20160501.csv')\n",
    "df_b = df_b.set_index('Unnamed: 0')\n",
    "df_b.index.name = None\n",
    "#df_b.head()"
   ]
  },
  {
   "cell_type": "code",
   "execution_count": 20,
   "metadata": {},
   "outputs": [
    {
     "data": {
      "text/plain": [
       "50.0"
      ]
     },
     "execution_count": 20,
     "metadata": {},
     "output_type": "execute_result"
    }
   ],
   "source": [
    "# Calculate percentage of unedited articles in balanced data\n",
    "\n",
    "len(df_b[\"num_edits_binary\"][df_b[\"num_edits_binary\"] == 0])/len(df_b[\"num_edits_binary\"])*100"
   ]
  },
  {
   "cell_type": "code",
   "execution_count": 21,
   "metadata": {
    "scrolled": true
   },
   "outputs": [
    {
     "name": "stdout",
     "output_type": "stream",
     "text": [
      "article_name                0\n",
      "num_edits                   0\n",
      "views_30d                   0\n",
      "views_7d                    0\n",
      "views_3d                    0\n",
      "views_1d                    0\n",
      "edits_30d                   0\n",
      "edits_7d                    0\n",
      "edits_3d                    0\n",
      "edits_1d                    0\n",
      "minor_edits_30d             0\n",
      "minor_edits_7d              0\n",
      "minor_edits_3d              0\n",
      "minor_edits_1d              0\n",
      "avg_size_30d              331\n",
      "avg_size_7d              4693\n",
      "avg_size_3d              6052\n",
      "avg_size_1d              6771\n",
      "avg_size                    0\n",
      "latest_size                 0\n",
      "talk_views_30d              0\n",
      "talk_views_7d               0\n",
      "talk_views_3d               0\n",
      "talk_views_1d               0\n",
      "talk_edits_30d              0\n",
      "talk_edits_7d               0\n",
      "talk_edits_3d               0\n",
      "talk_edits_1d               0\n",
      "talk_minor_edits_30d        0\n",
      "talk_minor_edits_7d         0\n",
      "talk_minor_edits_3d         0\n",
      "talk_minor_edits_1d         0\n",
      "talk_avg_size_30d       11189\n",
      "talk_avg_size_7d        24903\n",
      "talk_avg_size_3d        29113\n",
      "talk_avg_size_1d        37629\n",
      "talk_avg_size           10600\n",
      "talk_latest_size        10600\n",
      "num_edits_binary            0\n",
      "dtype: int64\n"
     ]
    }
   ],
   "source": [
    "# Check missingness in balanced data\n",
    "\n",
    "print(balanced_set.isnull().sum())"
   ]
  },
  {
   "cell_type": "code",
   "execution_count": 22,
   "metadata": {
    "collapsed": true
   },
   "outputs": [],
   "source": [
    "# Generate features\n",
    "\n",
    "# Views\n",
    "\n",
    "# Version 1\n",
    "\n",
    "df_b['change_in_views_v1_7_30'] = df_b.views_7d/4 - df_b.views_30d/23\n",
    "\n",
    "df_b['change_in_views_v1_3_7'] = df_b.views_3d/2 - df_b.views_7d/4 \n",
    "\n",
    "df_b['change_in_views_v1_1_3'] = df_b.views_1d/1 - df_b.views_3d/2\n",
    "\n",
    "# Version 2\n",
    "\n",
    "df_b['change_in_views_v2_7_30'] = (df_b.views_7d/4)/(df_b.views_30d/23)\n",
    "\n",
    "df_b['change_in_views_v2_3_7'] = (df_b.views_3d/2)/(df_b.views_7d/4)\n",
    "\n",
    "df_b['change_in_views_v2_1_3'] = (df_b.views_1d/1)/(df_b.views_3d/2)"
   ]
  },
  {
   "cell_type": "code",
   "execution_count": 23,
   "metadata": {
    "collapsed": true
   },
   "outputs": [],
   "source": [
    "# Edits\n",
    "\n",
    "# Version 1\n",
    "\n",
    "df_b['change_in_edits_v1_7_30'] = df_b.edits_7d/4 - df_b.edits_30d/23\n",
    "\n",
    "df_b['change_in_edits_v1_3_7'] = df_b.edits_3d/2 - df_b.edits_7d/4\n",
    "\n",
    "df_b['change_in_edits_v1_1_3'] = df_b.edits_1d/1 - df_b.edits_3d/2\n",
    "\n",
    "# Version 2\n",
    "\n",
    "df_b['change_in_edits_v2_7_30'] = (df_b.edits_7d/4)/(df_b.edits_30d/23)\n",
    "\n",
    "df_b['change_in_edits_v2_3_7'] = (df_b.edits_3d/2)/(df_b.edits_7d/4)\n",
    "\n",
    "df_b['change_in_edits_v2_1_3'] = (df_b.edits_1d/1)/(df_b.edits_3d/2)"
   ]
  },
  {
   "cell_type": "code",
   "execution_count": 24,
   "metadata": {
    "collapsed": true
   },
   "outputs": [],
   "source": [
    "# Minor edits\n",
    "\n",
    "# Version 1\n",
    "\n",
    "df_b['change_in_minor_edits_v1_7_30'] = df_b.minor_edits_7d/4 - df_b.minor_edits_30d/23\n",
    "\n",
    "df_b['change_in_minor_edits_v1_3_7'] = df_b.minor_edits_3d/2 - df_b.minor_edits_7d/4\n",
    "\n",
    "df_b['change_in_minor_edits_v1_1_3'] = df_b.minor_edits_1d/1 - df_b.minor_edits_3d/2\n",
    "\n",
    "# Version 2\n",
    "\n",
    "df_b['change_in_minor_edits_v2_7_30'] = (df_b.minor_edits_7d/4)/(df_b.minor_edits_30d/23)\n",
    "\n",
    "df_b['change_in_minor_edits_v2_3_7'] = (df_b.minor_edits_3d/2)/(df_b.minor_edits_7d/4)\n",
    "\n",
    "df_b['change_in_minor_edits_v2_1_3'] = (df_b.minor_edits_1d/1)/(df_b.minor_edits_3d/2)"
   ]
  },
  {
   "cell_type": "code",
   "execution_count": 26,
   "metadata": {},
   "outputs": [
    {
     "name": "stderr",
     "output_type": "stream",
     "text": [
      "/Users/ugur/anaconda3/lib/python3.6/site-packages/ipykernel_launcher.py:38: RuntimeWarning: divide by zero encountered in double_scalars\n",
      "/Users/ugur/anaconda3/lib/python3.6/site-packages/ipykernel_launcher.py:45: RuntimeWarning: divide by zero encountered in double_scalars\n",
      "/Users/ugur/anaconda3/lib/python3.6/site-packages/ipykernel_launcher.py:45: RuntimeWarning: invalid value encountered in double_scalars\n"
     ]
    }
   ],
   "source": [
    "# Average size\n",
    "\n",
    "# Version 1\n",
    "\n",
    "df_b['change_in_avg_size_v1_7_30'] = df_b[['avg_size_7d', 'avg_size_30d', 'edits_7d', 'edits_30d']].apply(\n",
    "    lambda x: 0\n",
    "    if (x['edits_7d'] + x['edits_30d'] == 0)\n",
    "    else (x['avg_size_7d']/4 - x['avg_size_30d']/23), \n",
    "    axis=1\n",
    ")\n",
    "\n",
    "df_b['change_in_avg_size_v1_3_7'] = df_b[['avg_size_3d', 'avg_size_7d', 'edits_3d', 'edits_7d']].apply(\n",
    "    lambda x: 0\n",
    "    if (x['edits_3d'] + x['edits_7d'] == 0)\n",
    "    else (x['avg_size_3d']/2 - x['avg_size_7d']/4), \n",
    "    axis=1\n",
    ")\n",
    "\n",
    "df_b['change_in_avg_size_v1_1_3'] = df_b[['avg_size_1d', 'avg_size_3d', 'edits_1d', 'edits_3d']].apply(\n",
    "    lambda x: 0\n",
    "    if (x['edits_1d'] + x['edits_3d'] == 0)\n",
    "    else (x['avg_size_1d']/1 - x['avg_size_3d']/2), \n",
    "    axis=1\n",
    ")\n",
    "\n",
    "# Version 2\n",
    "\n",
    "df_b['change_in_avg_size_v2_7_30'] = df_b[['avg_size_7d', 'avg_size_30d', 'edits_7d', 'edits_30d']].apply(\n",
    "    lambda x: 0\n",
    "    if (x['edits_7d'] + x['edits_30d'] == 0)\n",
    "    else ((x['avg_size_7d']/4)/(x['avg_size_30d']/23)), \n",
    "    axis=1\n",
    ")\n",
    "\n",
    "df_b['change_in_avg_size_v2_3_7'] = df_b[['avg_size_3d', 'avg_size_7d', 'edits_3d', 'edits_7d']].apply(\n",
    "    lambda x: 0\n",
    "    if (x['edits_3d'] + x['edits_7d'] == 0)\n",
    "    else ((x['avg_size_3d']/2)/(x['avg_size_7d']/4)), \n",
    "    axis=1\n",
    ")\n",
    "\n",
    "df_b['change_in_avg_size_v2_1_3'] = df_b[['avg_size_1d', 'avg_size_3d', 'edits_1d', 'edits_3d']].apply(\n",
    "    lambda x: 0\n",
    "    if (x['edits_1d'] + x['edits_3d'] == 0)\n",
    "    else ((x['avg_size_1d']/1)/(x['avg_size_3d']/2)), \n",
    "    axis=1\n",
    ")"
   ]
  },
  {
   "cell_type": "code",
   "execution_count": 27,
   "metadata": {
    "collapsed": true
   },
   "outputs": [],
   "source": [
    "# Talk views\n",
    "\n",
    "df_b['change_in_talk_views_v1_7_30'] = df_b.talk_views_7d/4 - df_b.talk_views_30d/23\n",
    "\n",
    "df_b['change_in_talk_views_v1_3_7'] = df_b.talk_views_3d/2 - df_b.talk_views_7d/4 \n",
    "\n",
    "df_b['change_in_talk_views_v1_1_3'] = df_b.talk_views_1d/1 - df_b.talk_views_3d/2\n",
    "\n",
    "# Version 2\n",
    "\n",
    "df_b['change_in_talk_views_v2_7_30'] = (df_b.talk_views_7d/4)/(df_b.talk_views_30d/23)\n",
    "\n",
    "df_b['change_in_talk_views_v2_3_7'] = (df_b.talk_views_3d/2)/(df_b.talk_views_7d/4)\n",
    "\n",
    "df_b['change_in_talk_views_v2_1_3'] = (df_b.talk_views_1d/1)/(df_b.talk_views_3d/2)"
   ]
  },
  {
   "cell_type": "code",
   "execution_count": 28,
   "metadata": {
    "collapsed": true
   },
   "outputs": [],
   "source": [
    "# Talk edits\n",
    "\n",
    "# Version 1\n",
    "\n",
    "df_b['change_in_talk_edits_v1_7_30'] = df_b.talk_edits_7d/4 - df_b.talk_edits_30d/23\n",
    "\n",
    "df_b['change_in_talk_edits_v1_3_7'] = df_b.talk_edits_3d/2 - df_b.talk_edits_7d/4\n",
    "\n",
    "df_b['change_in_talk_edits_v1_1_3'] = df_b.talk_edits_1d/1 - df_b.talk_edits_3d/2\n",
    "\n",
    "# Version 2\n",
    "\n",
    "df_b['change_in_talk_edits_v2_7_30'] = (df_b.talk_edits_7d/4)/(df_b.talk_edits_30d/23)\n",
    "\n",
    "df_b['change_in_talk_edits_v2_3_7'] = (df_b.talk_edits_3d/2)/(df_b.talk_edits_7d/4)\n",
    "\n",
    "df_b['change_in_talk_edits_v2_1_3'] = (df_b.talk_edits_1d/1)/(df_b.talk_edits_3d/2)"
   ]
  },
  {
   "cell_type": "code",
   "execution_count": 29,
   "metadata": {
    "collapsed": true
   },
   "outputs": [],
   "source": [
    "# Talk minor edits\n",
    "\n",
    "# Version 1\n",
    "\n",
    "df_b['change_in_talk_minor_edits_v1_7_30'] = df_b.talk_minor_edits_7d/4 - df_b.talk_minor_edits_30d/23\n",
    "\n",
    "df_b['change_in_talk_minor_edits_v1_3_7'] = df_b.talk_minor_edits_3d/2 - df_b.talk_minor_edits_7d/4\n",
    "\n",
    "df_b['change_in_talk_minor_edits_v1_1_3'] = df_b.talk_minor_edits_1d/1 - df_b.talk_minor_edits_3d/2\n",
    "\n",
    "# Version 2\n",
    "\n",
    "df_b['change_in_talk_minor_edits_v2_7_30'] = (df_b.talk_minor_edits_7d/4)/(df_b.talk_minor_edits_30d/23)\n",
    "\n",
    "df_b['change_in_talk_minor_edits_v2_3_7'] = (df_b.talk_minor_edits_3d/2)/(df_b.talk_minor_edits_7d/4)\n",
    "\n",
    "df_b['change_in_talk_minor_edits_v2_1_3'] = (df_b.talk_minor_edits_1d/1)/(df_b.talk_minor_edits_3d/2)"
   ]
  },
  {
   "cell_type": "code",
   "execution_count": 30,
   "metadata": {},
   "outputs": [
    {
     "name": "stderr",
     "output_type": "stream",
     "text": [
      "/Users/ugur/anaconda3/lib/python3.6/site-packages/ipykernel_launcher.py:43: RuntimeWarning: divide by zero encountered in double_scalars\n"
     ]
    }
   ],
   "source": [
    "# Talk average size\n",
    "\n",
    "# Version 1\n",
    "\n",
    "df_b['change_in_talk_avg_size_v1_7_30'] = df_b[['talk_avg_size_7d', 'talk_avg_size_30d', \n",
    "                                                'talk_edits_7d', 'talk_edits_30d']].apply(\n",
    "    lambda x: 0\n",
    "    if (x['talk_edits_7d'] + x['talk_edits_30d'] == 0)\n",
    "    else (x['talk_avg_size_7d']/4 - x['talk_avg_size_30d']/23), \n",
    "    axis=1\n",
    ")\n",
    "\n",
    "df_b['change_in_talk_avg_size_v1_3_7'] = df_b[['talk_avg_size_3d', 'talk_avg_size_7d', \n",
    "                                               'talk_edits_3d', 'talk_edits_7d']].apply(\n",
    "    lambda x: 0\n",
    "    if (x['talk_edits_3d'] + x['talk_edits_7d'] == 0)\n",
    "    else (x['talk_avg_size_3d']/2 - x['talk_avg_size_7d']/4), \n",
    "    axis=1\n",
    ")\n",
    "\n",
    "df_b['change_in_talk_avg_size_v1_1_3'] = df_b[['talk_avg_size_1d', 'talk_avg_size_3d', \n",
    "                                               'talk_edits_1d', 'talk_edits_3d']].apply(\n",
    "    lambda x: 0\n",
    "    if (x['talk_edits_1d'] + x['talk_edits_3d'] == 0)\n",
    "    else (x['talk_avg_size_1d']/1 - x['talk_avg_size_3d']/2), \n",
    "    axis=1\n",
    ")\n",
    "\n",
    "# Version 2\n",
    "\n",
    "df_b['change_in_talk_avg_size_v2_7_30'] = df_b[['talk_avg_size_7d', 'talk_avg_size_30d', \n",
    "                                                'talk_edits_7d', 'talk_edits_30d']].apply(\n",
    "    lambda x: 0\n",
    "    if (x['talk_edits_7d'] + x['talk_edits_30d'] == 0)\n",
    "    else ((x['talk_avg_size_7d']/4)/(x['talk_avg_size_30d']/23)), \n",
    "    axis=1\n",
    ")\n",
    "\n",
    "df_b['change_in_talk_avg_size_v2_3_7'] = df_b[['talk_avg_size_3d', 'talk_avg_size_7d', \n",
    "                                               'talk_edits_3d', 'talk_edits_7d']].apply(\n",
    "    lambda x: 0\n",
    "    if (x['talk_edits_3d'] + x['talk_edits_7d'] == 0)\n",
    "    else ((x['talk_avg_size_3d']/2)/(x['talk_avg_size_7d']/4)), \n",
    "    axis=1\n",
    ")\n",
    "\n",
    "df_b['change_in_talk_avg_size_v2_1_3'] = df_b[['talk_avg_size_1d', 'talk_avg_size_3d', \n",
    "                                               'talk_edits_1d', 'talk_edits_3d']].apply(\n",
    "    lambda x: 0\n",
    "    if (x['talk_edits_1d'] + x['talk_edits_3d'] == 0)\n",
    "    else ((x['talk_avg_size_1d']/1)/(x['talk_avg_size_3d']/2)), \n",
    "    axis=1\n",
    ")"
   ]
  },
  {
   "cell_type": "code",
   "execution_count": 31,
   "metadata": {
    "scrolled": true
   },
   "outputs": [
    {
     "name": "stdout",
     "output_type": "stream",
     "text": [
      "article_name                              0\n",
      "num_edits                                 0\n",
      "views_30d                                 0\n",
      "views_7d                                  0\n",
      "views_3d                                  0\n",
      "views_1d                                  0\n",
      "edits_30d                                 0\n",
      "edits_7d                                  0\n",
      "edits_3d                                  0\n",
      "edits_1d                                  0\n",
      "minor_edits_30d                           0\n",
      "minor_edits_7d                            0\n",
      "minor_edits_3d                            0\n",
      "minor_edits_1d                            0\n",
      "avg_size_30d                            331\n",
      "avg_size_7d                            4693\n",
      "avg_size_3d                            6052\n",
      "avg_size_1d                            6771\n",
      "avg_size                                  0\n",
      "latest_size                               0\n",
      "talk_views_30d                            0\n",
      "talk_views_7d                             0\n",
      "talk_views_3d                             0\n",
      "talk_views_1d                             0\n",
      "talk_edits_30d                            0\n",
      "talk_edits_7d                             0\n",
      "talk_edits_3d                             0\n",
      "talk_edits_1d                             0\n",
      "talk_minor_edits_30d                      0\n",
      "talk_minor_edits_7d                       0\n",
      "                                      ...  \n",
      "change_in_avg_size_v1_7_30              150\n",
      "change_in_avg_size_v1_3_7               114\n",
      "change_in_avg_size_v1_1_3               276\n",
      "change_in_avg_size_v2_7_30              150\n",
      "change_in_avg_size_v2_3_7               114\n",
      "change_in_avg_size_v2_1_3               277\n",
      "change_in_talk_views_v1_7_30              0\n",
      "change_in_talk_views_v1_3_7               0\n",
      "change_in_talk_views_v1_1_3               0\n",
      "change_in_talk_views_v2_7_30          10922\n",
      "change_in_talk_views_v2_3_7           17894\n",
      "change_in_talk_views_v2_1_3           23013\n",
      "change_in_talk_edits_v1_7_30              0\n",
      "change_in_talk_edits_v1_3_7               0\n",
      "change_in_talk_edits_v1_1_3               0\n",
      "change_in_talk_edits_v2_7_30          49587\n",
      "change_in_talk_edits_v2_3_7           51068\n",
      "change_in_talk_edits_v2_1_3           51277\n",
      "change_in_talk_minor_edits_v1_7_30        0\n",
      "change_in_talk_minor_edits_v1_3_7         0\n",
      "change_in_talk_minor_edits_v1_1_3         0\n",
      "change_in_talk_minor_edits_v2_7_30    51092\n",
      "change_in_talk_minor_edits_v2_3_7     51688\n",
      "change_in_talk_minor_edits_v2_1_3     51747\n",
      "change_in_talk_avg_size_v1_7_30         344\n",
      "change_in_talk_avg_size_v1_3_7          201\n",
      "change_in_talk_avg_size_v1_1_3          242\n",
      "change_in_talk_avg_size_v2_7_30         344\n",
      "change_in_talk_avg_size_v2_3_7          201\n",
      "change_in_talk_avg_size_v2_1_3          242\n",
      "Length: 87, dtype: int64\n"
     ]
    }
   ],
   "source": [
    "# Check missingness in balanced data with new features\n",
    "\n",
    "print(df_b.isnull().sum())"
   ]
  },
  {
   "cell_type": "code",
   "execution_count": 32,
   "metadata": {
    "collapsed": true
   },
   "outputs": [],
   "source": [
    "# Write balanced data (with new features) to csv\n",
    "\n",
    "df_b.to_csv('balanced_set2_20160501.csv', sep=',')\n",
    "#df_b.head()"
   ]
  },
  {
   "cell_type": "code",
   "execution_count": 85,
   "metadata": {
    "collapsed": true
   },
   "outputs": [],
   "source": [
    "# Read in balanced data (with new features)\n",
    "\n",
    "df_b2 = pd.read_csv('balanced_set2_20160501.csv')\n",
    "df_b2 = df_b2.set_index('Unnamed: 0')\n",
    "df_b2.index.name = None\n",
    "# df_b.head()"
   ]
  },
  {
   "cell_type": "code",
   "execution_count": 99,
   "metadata": {},
   "outputs": [
    {
     "data": {
      "text/plain": [
       "(51898, 88)"
      ]
     },
     "execution_count": 99,
     "metadata": {},
     "output_type": "execute_result"
    }
   ],
   "source": [
    "df_b2_ri = df_b2.reset_index()\n",
    "df_b2_ri = df_b2_ri.rename(columns={'index': 'original_index'})\n",
    "df_b2_ri.shape"
   ]
  },
  {
   "cell_type": "code",
   "execution_count": 108,
   "metadata": {},
   "outputs": [
    {
     "name": "stdout",
     "output_type": "stream",
     "text": [
      "37\n"
     ]
    }
   ],
   "source": [
    "# Store relevant variable names (including new features) in a list\n",
    "\n",
    "new_feature_names = [x for x in df_b2_ri.columns \n",
    "                     if 'original_index' not in x\n",
    "                     and 'article_name' not in x\n",
    "                     and 'num_edits' not in x\n",
    "                     and 'v2' not in x\n",
    "                     and 'talk_avg_size' not in x\n",
    "                     and 'talk_latest_size' not in x]\n",
    "\n",
    "print(len(new_feature_names))\n",
    "\n",
    "label_name = \"num_edits_binary\""
   ]
  },
  {
   "cell_type": "code",
   "execution_count": 110,
   "metadata": {},
   "outputs": [
    {
     "name": "stdout",
     "output_type": "stream",
     "text": [
      "(43607, 38)\n"
     ]
    },
    {
     "data": {
      "text/plain": [
       "views_30d                       0\n",
       "views_7d                        0\n",
       "views_3d                        0\n",
       "views_1d                        0\n",
       "edits_30d                       0\n",
       "edits_7d                        0\n",
       "edits_3d                        0\n",
       "edits_1d                        0\n",
       "avg_size_30d                    0\n",
       "avg_size_7d                     0\n",
       "avg_size_3d                     0\n",
       "avg_size_1d                     0\n",
       "avg_size                        0\n",
       "latest_size                     0\n",
       "talk_views_30d                  0\n",
       "talk_views_7d                   0\n",
       "talk_views_3d                   0\n",
       "talk_views_1d                   0\n",
       "talk_edits_30d                  0\n",
       "talk_edits_7d                   0\n",
       "talk_edits_3d                   0\n",
       "talk_edits_1d                   0\n",
       "change_in_views_v1_7_30         0\n",
       "change_in_views_v1_3_7          0\n",
       "change_in_views_v1_1_3          0\n",
       "change_in_edits_v1_7_30         0\n",
       "change_in_edits_v1_3_7          0\n",
       "change_in_edits_v1_1_3          0\n",
       "change_in_avg_size_v1_7_30      0\n",
       "change_in_avg_size_v1_3_7       0\n",
       "change_in_avg_size_v1_1_3       0\n",
       "change_in_talk_views_v1_7_30    0\n",
       "change_in_talk_views_v1_3_7     0\n",
       "change_in_talk_views_v1_1_3     0\n",
       "change_in_talk_edits_v1_7_30    0\n",
       "change_in_talk_edits_v1_3_7     0\n",
       "change_in_talk_edits_v1_1_3     0\n",
       "num_edits_binary                0\n",
       "dtype: int64"
      ]
     },
     "execution_count": 110,
     "metadata": {},
     "output_type": "execute_result"
    }
   ],
   "source": [
    "# Drop rows with NaN's \n",
    "\n",
    "df_b2_ri = df_b2_ri[new_feature_names + [label_name]]\n",
    "df_b2_ri = df_b2_ri.dropna() \n",
    "\n",
    "print(df_b2_ri.shape)\n",
    "\n",
    "df_b2_ri.isnull().sum()"
   ]
  },
  {
   "cell_type": "code",
   "execution_count": 111,
   "metadata": {
    "collapsed": true
   },
   "outputs": [],
   "source": [
    "# Convert data frame to matrix\n",
    "\n",
    "X = df_b2_ri[new_feature_names].as_matrix()\n",
    "\n",
    "Y = df_b2_ri[label_name].as_matrix()"
   ]
  },
  {
   "cell_type": "code",
   "execution_count": 112,
   "metadata": {},
   "outputs": [
    {
     "name": "stdout",
     "output_type": "stream",
     "text": [
      "0.13702163298924763 minutes\n",
      "Train accuracy is: 0.680911407167\n",
      "Test accuracy is: 0.68011978824\n"
     ]
    }
   ],
   "source": [
    "# Logistic regression\n",
    "\n",
    "np.random.seed(seed=13579)\n",
    "\n",
    "kf = KFold(n_splits=5, random_state=13579)\n",
    "\n",
    "train_acc = []\n",
    "test_acc = []\n",
    "\n",
    "for train_idx, test_idx in kf.split(X):\n",
    "    train_x = X[train_idx]\n",
    "    train_y = Y[train_idx]\n",
    "    test_x = X[test_idx]\n",
    "    test_y = Y[test_idx]\n",
    "\n",
    "    model = LogisticRegression()\n",
    "    model.fit(train_x, train_y)\n",
    "    \n",
    "    train_acc += [accuracy_score(train_y, model.predict(train_x))]\n",
    "    test_acc += [accuracy_score(test_y, model.predict(test_x))]\n",
    "\n",
    "print(\"Train accuracy is: \" + str(np.mean(train_acc)))\n",
    "print(\"Test accuracy is: \" + str(np.mean(test_acc)))"
   ]
  },
  {
   "cell_type": "code",
   "execution_count": null,
   "metadata": {
    "collapsed": true
   },
   "outputs": [],
   "source": [
    "# TBD LATER IF HAVE EXTRA TIME\n",
    "\n",
    "# - Explore class weights\n",
    "# - Explore different algorithms"
   ]
  }
 ],
 "metadata": {
  "kernelspec": {
   "display_name": "Python 3",
   "language": "python",
   "name": "python3"
  },
  "language_info": {
   "codemirror_mode": {
    "name": "ipython",
    "version": 3
   },
   "file_extension": ".py",
   "mimetype": "text/x-python",
   "name": "python",
   "nbconvert_exporter": "python",
   "pygments_lexer": "ipython3",
   "version": "3.6.2"
  }
 },
 "nbformat": 4,
 "nbformat_minor": 2
}
